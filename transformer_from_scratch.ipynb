{
 "cells": [
  {
   "cell_type": "code",
   "execution_count": 2,
   "id": "20ab6261-8bf6-4dd2-96d8-e2ca21f8a128",
   "metadata": {},
   "outputs": [],
   "source": [
    "import torch\n",
    "import math\n",
    "import torch.nn as nn\n",
    "from torch.utils.data import DataLoader\n",
    "from tqdm import tqdm\n",
    "from os import path"
   ]
  },
  {
   "cell_type": "code",
   "execution_count": 36,
   "id": "f9836438-9c0d-48a9-8ade-5b0c3f73971d",
   "metadata": {},
   "outputs": [],
   "source": [
    "# config\n",
    "D_MODEL = 512 # Dimension of input token representation - embeddings\n",
    "VOCAB_SIZE = 50000 # Number of tokens in vocabulary\n",
    "MAX_SEQ_LEN = 64 # Maximum Sequence Length of Input and Output Sequence\n",
    "NUM_LAYERS = 2 # Number of encoder and decoder stacks\n",
    "ATTN_DROPOUT = 0.2 # Quantify the dropout of how much in attention\n",
    "EPS = 1e-6 # A small value to avoid zero division error while normalization\n",
    "FF_DROPOUT = 0.2 # How much dropout in FFN``\n",
    "NUM_HEADS = 8 # Number of attention heads\n",
    "RES_DROPOUT = 0.2 # Dropout for residual connection\n",
    "WEIGHT_DECAY = 0.01\n",
    "GRAD_CLIP = 2.0\n",
    "TOKENIZER_PATH = \"tokenizer.json\" # Tokenizer path\n",
    "DATASET_ID = \"emotion_data.parquet\" # Dataset path\n",
    "SRC_CLN_NAME = \"text\" # Source column name\n",
    "TGT_CLN_NAME = \"label\" # Target column name\n",
    "LOG_DIR = \"logs/v1\" # Logging dir\n",
    "BATCH_SIZE = 10 # Number of samples per batch\n",
    "LR = 1e-4 # Learning Rate for optimizer\n",
    "NUM_EPOCHS = 100# Number of training epochs\n",
    "MODEL_SAVE_PATH = \"transformer_classifier\" # Model save path\n",
    "DEVICE = \"cuda\" if torch.cuda.is_available() else \"cpu\""
   ]
  },
  {
   "cell_type": "markdown",
   "id": "e42b3037-ae00-46bd-a56f-6059898248bb",
   "metadata": {},
   "source": [
    "# dataloader"
   ]
  },
  {
   "cell_type": "code",
   "execution_count": 4,
   "id": "2ed22979-98be-4e0c-bf3e-5427a524c526",
   "metadata": {},
   "outputs": [
    {
     "name": "stdout",
     "output_type": "stream",
     "text": [
      "torch.Size([10, 30, 512])\n"
     ]
    }
   ],
   "source": [
    "# Token embedding\n",
    "\n",
    "class TokenEmbeddings(nn.Module):\n",
    "    \n",
    "    def __init__(self, d_model: int, vocab_size: int) -> None:\n",
    "        super().__init__()\n",
    "        self.d_model = d_model\n",
    "        self.vocab_size = vocab_size\n",
    "        self.embedding = nn.Embedding(\n",
    "                                        num_embeddings=vocab_size,\n",
    "                                        embedding_dim=d_model\n",
    "                                    )\n",
    "        \n",
    "    def forward(self, x: torch.Tensor):\n",
    "        token_embedding = self.embedding(x)\n",
    "        return token_embedding\n",
    "a  = torch.ones((BATCH_SIZE, MAX_SEQ_LEN-2), dtype = torch.int64)\n",
    "TE = TokenEmbeddings(D_MODEL, VOCAB_SIZE)\n",
    "print(TE(a).shape)"
   ]
  },
  {
   "cell_type": "code",
   "execution_count": 5,
   "id": "93e5a47b-a25b-4cca-bfb8-3a25212b43bf",
   "metadata": {},
   "outputs": [
    {
     "name": "stdout",
     "output_type": "stream",
     "text": [
      "torch.Size([10, 30, 512])\n"
     ]
    }
   ],
   "source": [
    "# positional embedding\n",
    "\n",
    "class PositionalEncoding(nn.Module):\n",
    "    \n",
    "    def __init__(self, d_model: int, seq_len: int, dropout_p: float) -> None:\n",
    "        super().__init__()\n",
    "        self.d_model = d_model\n",
    "        self.seq_len = seq_len\n",
    "        self.dropout = nn.Dropout(dropout_p)\n",
    "        position_encodings = torch.zeros(self.seq_len, self.d_model)\n",
    "        positions = torch.arange(0, self.seq_len, dtype=torch.float).unsqueeze(1)\n",
    "        even_odd_i = torch.arange(0, self.d_model, 2).float()\n",
    "        div_freqs_term = torch.pow(10000, even_odd_i/d_model)\n",
    "        position_encodings[:, 0::2] = torch.sin(positions*div_freqs_term)\n",
    "        position_encodings[:, 1::2] = torch.cos(positions*div_freqs_term)\n",
    "        position_encodings = position_encodings.unsqueeze(0)\n",
    "        self.register_buffer('position_encodings', position_encodings)\n",
    "        \n",
    "    def forward(self, x: torch.Tensor):\n",
    "        x = x + (self.position_encodings[:, :x.shape[1], :]).requires_grad_(False)\n",
    "        pos_encoding = self.dropout(x)\n",
    "        return pos_encoding\n",
    "a  = torch.ones((BATCH_SIZE, MAX_SEQ_LEN-2, D_MODEL))\n",
    "PE = PositionalEncoding(D_MODEL, MAX_SEQ_LEN, FF_DROPOUT)\n",
    "print(PE(a).shape)"
   ]
  },
  {
   "cell_type": "code",
   "execution_count": 6,
   "id": "38f6ff8b-7a59-4b21-b02a-f00f640d490c",
   "metadata": {},
   "outputs": [
    {
     "name": "stdout",
     "output_type": "stream",
     "text": [
      "torch.Size([10, 30, 512])\n"
     ]
    }
   ],
   "source": [
    "# input embeddings\n",
    "\n",
    "class InputEmbeddings(nn.Module):\n",
    "\n",
    "    def __init__(self):\n",
    "        super().__init__()\n",
    "        self.d_model = D_MODEL\n",
    "        self.vocab_size = VOCAB_SIZE\n",
    "        self.seq_len = MAX_SEQ_LEN\n",
    "        self.dropout_p = FF_DROPOUT\n",
    "        self.token_embedding = TokenEmbeddings(self.d_model, self.vocab_size)\n",
    "        self.positional_encoding = PositionalEncoding(self.d_model, self.seq_len, self.dropout_p)\n",
    "\n",
    "    def forward(self, x: torch.Tensor):\n",
    "        token_embed_x = self.token_embedding(x)\n",
    "        inp_embedding = self.positional_encoding(token_embed_x)\n",
    "        return inp_embedding\n",
    "\n",
    "a  = torch.ones((BATCH_SIZE, MAX_SEQ_LEN-2), dtype = torch.int64)\n",
    "IE = InputEmbeddings()\n",
    "print(IE(a).shape)"
   ]
  },
  {
   "cell_type": "code",
   "execution_count": 7,
   "id": "ea31e2ee-d593-4218-9903-db3a4b2bd81b",
   "metadata": {},
   "outputs": [
    {
     "name": "stdout",
     "output_type": "stream",
     "text": [
      "I rented I AM CURIOU 0\n",
      "{0, 1}\n"
     ]
    }
   ],
   "source": [
    "# load training dataset for tokenizer\n",
    "\n",
    "from datasets import load_dataset\n",
    "\n",
    "data_id = \"stanfordnlp/imdb\"\n",
    "tokenizer_dataset = load_dataset(data_id, split=\"train\")\n",
    "print(tokenizer_dataset['text'][0][:20], tokenizer_dataset['label'][0])\n",
    "print(set(tokenizer_dataset['label']))"
   ]
  },
  {
   "cell_type": "code",
   "execution_count": 8,
   "id": "ac8c029e-c763-4693-a46e-4e3096ffab3a",
   "metadata": {},
   "outputs": [
    {
     "name": "stdout",
     "output_type": "stream",
     "text": [
      "I rented I AM CURIOU\n"
     ]
    }
   ],
   "source": [
    "# make iterator for the dataset\n",
    "\n",
    "from tokenizers import Tokenizer\n",
    "\n",
    "def tokenizer_dataset_iterator(dataset):\n",
    "    for data in dataset:\n",
    "        yield data[\"text\"]\n",
    "for a in tokenizer_dataset_iterator(tokenizer_dataset):\n",
    "    print(a[:20])\n",
    "    break"
   ]
  },
  {
   "cell_type": "code",
   "execution_count": 9,
   "id": "40fea97a-b29b-4623-b2fb-12419cd77712",
   "metadata": {},
   "outputs": [
    {
     "name": "stdout",
     "output_type": "stream",
     "text": [
      "[0, 1, 2, 3]\n",
      "[15, 1718, 15, 14456, 34507, 20, 26873, 3228]\n",
      "[3]\n"
     ]
    }
   ],
   "source": [
    "# Initialize tokenizer\n",
    "\n",
    "from tokenizers import Tokenizer\n",
    "from tokenizers.models import WordLevel\n",
    "from tokenizers.pre_tokenizers import Whitespace\n",
    "from tokenizers.trainers import WordLevelTrainer\n",
    "if path.exists(\"tokenizer.json\"):\n",
    "    tokenizer = Tokenizer.from_file(\"tokenizer.json\")\n",
    "else:\n",
    "    tokenizer = Tokenizer(WordLevel(unk_token=\"[UNK]\"))\n",
    "    tokenizer.pre_tokenizer = Whitespace()\n",
    "    tokenizer_trainer = WordLevelTrainer(vocab_size=VOCAB_SIZE, special_tokens=[\"[PAD]\", \"[SOS]\", \"[EOS]\", \"[UNK]\"], min_frequency=2)\n",
    "    tokenizer.train_from_iterator(tokenizer_dataset_iterator(tokenizer_dataset), trainer=tokenizer_trainer)\n",
    "    tokenizer.save(\"tokenizer.json\")\n",
    "print(tokenizer.encode(\"[PAD] [SOS] [EOS] [UNK]\").ids)\n",
    "print(tokenizer.encode(a[:30]).ids)\n",
    "print(tokenizer.encode(\"7569\").ids)"
   ]
  },
  {
   "cell_type": "code",
   "execution_count": 10,
   "id": "2f27f1e5-0132-4f03-8568-35124a8d3779",
   "metadata": {},
   "outputs": [],
   "source": [
    "# classification dataset\n",
    "\n",
    "from torch.utils.data import Dataset\n",
    "\n",
    "class ClassificationDataset(Dataset):\n",
    "    def __init__(self, dataset_id: str, tokenizer: Tokenizer, max_seq_len: int,  src_cln_name: str, tgt_cln_name: str, split: str):\n",
    "        super().__init__()\n",
    "        self.tokenizer = tokenizer\n",
    "        self.max_seq_len = max_seq_len\n",
    "        self.src_cln_name = src_cln_name\n",
    "        self.tgt_cln_name = tgt_cln_name\n",
    "        self.dataset_id = dataset_id\n",
    "        #self.dataset = HFDataset.from_pandas(pd.read_parquet(DATASET_ID).sample(frac=1))\n",
    "        self.dataset = load_dataset(self.dataset_id, split=split)\n",
    "        self.sos_token = torch.tensor([tokenizer.token_to_id(\"[SOS]\")]).to(torch.int64)\n",
    "        self.eos_token = torch.tensor([tokenizer.token_to_id(\"[EOS]\")]).to(torch.int64)\n",
    "        self.pad_token = torch.tensor([tokenizer.token_to_id(\"[PAD]\")]).to(torch.int64)\n",
    "\n",
    "    def __len__(self):\n",
    "        return len(self.dataset)\n",
    "    \n",
    "    def __getitem__(self, index):\n",
    "\n",
    "        data = self.dataset[index]\n",
    "        src_data = data[self.src_cln_name]\n",
    "        tgt_data = data[self.tgt_cln_name]\n",
    "        encoder_inp_tokens = torch.tensor(self.tokenizer.encode(src_data).ids).to(torch.int64)\n",
    "        decoder_inp_tokens = torch.tensor(self.tokenizer.encode(str(tgt_data)).ids).to(torch.int64)\n",
    "\n",
    "        if encoder_inp_tokens.size(0) > self.max_seq_len-2:\n",
    "            encoder_inp_tokens = encoder_inp_tokens[:self.max_seq_len-2]\n",
    "\n",
    "        encoder_num_padding_tokens = self.max_seq_len - len(encoder_inp_tokens) - 2\n",
    "        decoder_num_padding_tokens = self.max_seq_len - len(decoder_inp_tokens) - 1\n",
    "\n",
    "        encoder_inp_pad_tokens = torch.tensor([self.pad_token] * encoder_num_padding_tokens).to(torch.int64)\n",
    "        decoder_inp_pad_tokens = torch.tensor([self.pad_token] * decoder_num_padding_tokens).to(torch.int64) \n",
    "        label_pad_tokens = torch.tensor([self.pad_token] * decoder_num_padding_tokens).to(torch.int64)\n",
    "\n",
    "        encoder_inp_tokens = torch.cat([self.sos_token, encoder_inp_tokens, self.eos_token, encoder_inp_pad_tokens], dim=0)\n",
    "        decoder_inpp_tokens = torch.cat([self.sos_token, decoder_inp_tokens, decoder_inp_pad_tokens], dim=0)\n",
    "        label_tokens = torch.cat([decoder_inp_tokens, self.eos_token, label_pad_tokens], dim=0)\n",
    "        \n",
    "        encoder_attn_mask = (encoder_inp_tokens != self.pad_token).unsqueeze(0).unsqueeze(0).to(torch.int64)\n",
    "        auto_regressive_mask = torch.tril(torch.ones((1, decoder_inpp_tokens.size(0), decoder_inpp_tokens.size(0))), diagonal=0).type(torch.int64)\n",
    "        decoder_attn_mask = ((decoder_inpp_tokens != self.pad_token).unsqueeze(0).to(torch.int64) & auto_regressive_mask).to(torch.int64)\n",
    "        \n",
    "        model_inp = {}\n",
    "        model_inp[\"encoder_input_ids\"] = encoder_inp_tokens\n",
    "        model_inp[\"decoder_input_ids\"] = decoder_inpp_tokens\n",
    "        model_inp[\"encoder_attention_mask\"] = encoder_attn_mask\n",
    "        model_inp[\"decoder_attention_mask\"] = decoder_attn_mask\n",
    "        model_inp[\"labels\"] = label_tokens\n",
    "        model_inp[\"source\"] = src_data\n",
    "        model_inp[\"target\"] = tgt_data\n",
    "        return model_inp\n",
    "\n",
    "CD_train = ClassificationDataset(data_id, tokenizer, MAX_SEQ_LEN, \"text\", \"label\", \"train\")\n",
    "CD_test = ClassificationDataset(data_id, tokenizer, MAX_SEQ_LEN, \"text\", \"label\", \"test\")"
   ]
  },
  {
   "cell_type": "code",
   "execution_count": 11,
   "id": "898e9ee7-9fca-40bf-b4a8-50bf773ef899",
   "metadata": {
    "scrolled": true
   },
   "outputs": [
    {
     "data": {
      "text/plain": [
       "tensor([[[1, 0, 0,  ..., 0, 0, 0],\n",
       "         [1, 1, 0,  ..., 0, 0, 0],\n",
       "         [1, 1, 0,  ..., 0, 0, 0],\n",
       "         ...,\n",
       "         [1, 1, 0,  ..., 0, 0, 0],\n",
       "         [1, 1, 0,  ..., 0, 0, 0],\n",
       "         [1, 1, 0,  ..., 0, 0, 0]]])"
      ]
     },
     "execution_count": 11,
     "metadata": {},
     "output_type": "execute_result"
    }
   ],
   "source": [
    "CD_train[0][\"decoder_attention_mask\"]"
   ]
  },
  {
   "cell_type": "markdown",
   "id": "09f794fb-43a4-47c0-b6c3-5e93bd42ac5f",
   "metadata": {},
   "source": [
    "# Models"
   ]
  },
  {
   "cell_type": "code",
   "execution_count": 12,
   "id": "480958d2-5c6a-4c97-84ae-ac628563ed75",
   "metadata": {},
   "outputs": [
    {
     "name": "stdout",
     "output_type": "stream",
     "text": [
      "torch.Size([10, 32, 512])\n"
     ]
    }
   ],
   "source": [
    "# Fully connected\n",
    "\n",
    "class FeedForward(nn.Module):\n",
    "\n",
    "    def __init__(self, d_model: int, ff_dropout: float) -> None:\n",
    "        super().__init__()\n",
    "        self.d_model = d_model\n",
    "        self.ff_dropout = ff_dropout\n",
    "        self.d_ff = self.d_model * 4\n",
    "        self.linear_1 = nn.Linear(self.d_model, self.d_ff)\n",
    "        self.linear_2 = nn.Linear(self.d_ff, self.d_model)\n",
    "        self.ff_dropout_layer = nn.Dropout(self.ff_dropout)\n",
    "        self.activation_fn = torch.relu\n",
    "\n",
    "    def forward(self, x:torch.Tensor):\n",
    "        linear_1_out = self.linear_1(x)\n",
    "        linear_1_out = self.activation_fn(linear_1_out)\n",
    "        linear_1_out = self.ff_dropout_layer(linear_1_out)\n",
    "        ff_out = self.linear_2(linear_1_out)\n",
    "        return ff_out\n",
    "        \n",
    "FF = FeedForward(D_MODEL, FF_DROPOUT)\n",
    "a  = torch.rand((BATCH_SIZE, MAX_SEQ_LEN, D_MODEL))\n",
    "print(FF(a).shape)"
   ]
  },
  {
   "cell_type": "code",
   "execution_count": 13,
   "id": "43597624-4fbb-447f-a0c3-6f9def726055",
   "metadata": {},
   "outputs": [
    {
     "name": "stdout",
     "output_type": "stream",
     "text": [
      "torch.Size([10, 32, 512])\n"
     ]
    }
   ],
   "source": [
    "# Multi-head attention\n",
    "\n",
    "class MultiHeadAttention(nn.Module):\n",
    "\n",
    "    def __init__(self, d_model: int, num_heads: int, attn_dropout: float) -> None:\n",
    "        super().__init__()\n",
    "        self.d_model = d_model\n",
    "        self.num_heads = num_heads\n",
    "        self.head_dim = d_model // num_heads\n",
    "        self.wq = nn.Linear(d_model, d_model, bias=False)\n",
    "        self.wk = nn.Linear(d_model, d_model, bias=False)\n",
    "        self.wv = nn.Linear(d_model, d_model, bias=False)\n",
    "        self.wo = nn.Linear(d_model, d_model, bias=False)\n",
    "        self.dropout = nn.Dropout(attn_dropout)\n",
    "\n",
    "    def attention_calculation(self, query: torch.Tensor, key: torch.Tensor, value: torch.Tensor, mask: torch.Tensor):\n",
    "        attention_scores = (query @ key.transpose(-2, -1)) / math.sqrt(self.head_dim)\n",
    "        if mask is not None:\n",
    "            attention_scores.masked_fill_(mask == 0, -1e9)\n",
    "        attention_scores = attention_scores.softmax(dim=-1)\n",
    "        if self.dropout is not None:\n",
    "            attention_scores = self.dropout(attention_scores)\n",
    "        return (attention_scores @ value), attention_scores\n",
    "\n",
    "    def forward(self, q: torch.Tensor, k: torch.Tensor, v: torch.Tensor, attn_mask: torch.Tensor):\n",
    "        query = self.wq(q)\n",
    "        key = self.wk(k)\n",
    "        value = self.wv(v)\n",
    "        query = query.view(query.shape[0], query.shape[1], self.num_heads, self.head_dim).transpose(1, 2)\n",
    "        key = key.view(key.shape[0], key.shape[1], self.num_heads, self.head_dim).transpose(1, 2)\n",
    "        value = value.view(value.shape[0], value.shape[1], self.num_heads, self.head_dim).transpose(1, 2)\n",
    "        x, self.attention_scores = self.attention_calculation(query, key, value, attn_mask)\n",
    "        x = x.transpose(1, 2).contiguous().view(x.shape[0], -1, self.d_model)  \n",
    "        attn_out = self.wo(x)\n",
    "        return attn_out\n",
    "        \n",
    "q = torch.rand((BATCH_SIZE, MAX_SEQ_LEN, D_MODEL))\n",
    "k = torch.rand((BATCH_SIZE, MAX_SEQ_LEN, D_MODEL))\n",
    "v = torch.rand((BATCH_SIZE, MAX_SEQ_LEN, D_MODEL))\n",
    "MHA = MultiHeadAttention(D_MODEL, NUM_HEADS, ATTN_DROPOUT)\n",
    "print(MHA(q, k, v, None).shape)"
   ]
  },
  {
   "cell_type": "code",
   "execution_count": 14,
   "id": "b1a18c9c-685f-4f8e-91f1-d0d9d70e12a8",
   "metadata": {},
   "outputs": [
    {
     "name": "stdout",
     "output_type": "stream",
     "text": [
      "torch.Size([10, 32, 512])\n"
     ]
    }
   ],
   "source": [
    "# Residual connection and layernorm\n",
    "\n",
    "class LayerNorm(nn.Module):\n",
    "\n",
    "    def __init__(self, d_model: int, eps: float) -> None:\n",
    "        super().__init__()\n",
    "        self.eps = eps\n",
    "        self.alpha = nn.Parameter(torch.ones(d_model))\n",
    "        self.beta = nn.Parameter(torch.zeros(d_model))\n",
    "\n",
    "    def forward(self, x:torch.Tensor):\n",
    "        mean = x.mean(dim=-1, keepdim=True)\n",
    "        std = x.std(dim=-1, keepdim=True)\n",
    "        x_normalized = (x - mean)/(std + self.eps) \n",
    "        layer_norm_out = self.alpha * x_normalized + self.beta\n",
    "        return layer_norm_out\n",
    "\n",
    "class ResidualConnection(nn.Module):\n",
    "\n",
    "    def __init__(self, d_model: int, res_dropout: float):\n",
    "        super().__init__()\n",
    "        self.dropout_layer = nn.Dropout(res_dropout)\n",
    "        self.layer_norm_layer = LayerNorm(d_model, 1e-6)\n",
    "\n",
    "    def forward(self, x, sublayer):\n",
    "        sublayer_out = self.dropout_layer(sublayer(self.layer_norm_layer(x)))\n",
    "        add_layer_norm_out = x + sublayer_out\n",
    "        return add_layer_norm_out\n",
    "        \n",
    "a = torch.rand((BATCH_SIZE, MAX_SEQ_LEN, D_MODEL))\n",
    "RES = ResidualConnection(D_MODEL, RES_DROPOUT)\n",
    "print(RES(a, FF).shape)"
   ]
  },
  {
   "cell_type": "code",
   "execution_count": 15,
   "id": "579ba190-19ba-421d-ad50-4c4db0e973b5",
   "metadata": {},
   "outputs": [
    {
     "name": "stdout",
     "output_type": "stream",
     "text": [
      "torch.Size([10, 32, 512])\n"
     ]
    }
   ],
   "source": [
    "# encoder\n",
    "\n",
    "class EncoderBlock(nn.Module):\n",
    "\n",
    "    def __init__(self):\n",
    "        super().__init__()\n",
    "        self.d_model = D_MODEL\n",
    "        self.num_heads = NUM_HEADS\n",
    "        self.attn_dropout = ATTN_DROPOUT\n",
    "        self.ff_dropout = FF_DROPOUT\n",
    "        self.res_dropout = RES_DROPOUT\n",
    "        self.self_attention = MultiHeadAttention(self.d_model, self.num_heads, self.attn_dropout)\n",
    "        self.feed_forward = FeedForward(self.d_model, self.ff_dropout)\n",
    "        self.res_connection1 = ResidualConnection(self.d_model, self.res_dropout)\n",
    "        self.res_connection2 = ResidualConnection(self.d_model, self.res_dropout)\n",
    "\n",
    "    def forward(self, x: torch.Tensor, src_attn_mask: torch.Tensor):\n",
    "        attn_out = self.res_connection1(x, lambda x: self.self_attention(x, x, x, src_attn_mask))\n",
    "        enc_block_out = self.res_connection2(attn_out, self.feed_forward)\n",
    "        return enc_block_out\n",
    "    \n",
    "class Encoder(nn.Module):\n",
    "\n",
    "    def __init__(self, d_model: int, num_layers: int):\n",
    "        super().__init__()\n",
    "        self.layers = nn.ModuleList([EncoderBlock() for _ in range(num_layers)])\n",
    "        self.layer_norm = LayerNorm(d_model, EPS)\n",
    "\n",
    "    def forward(self, x:torch.Tensor, attn_mask: torch.Tensor):\n",
    "        for layer in self.layers:\n",
    "            x = layer(x, attn_mask)\n",
    "        encoder_out = self.layer_norm(x)\n",
    "        return encoder_out\n",
    "\n",
    "a = torch.rand((BATCH_SIZE, MAX_SEQ_LEN, D_MODEL))\n",
    "ENC = Encoder(D_MODEL, NUM_LAYERS)\n",
    "print(ENC(a, None).shape)"
   ]
  },
  {
   "cell_type": "code",
   "execution_count": 16,
   "id": "0ba6fb5c-26ad-4d65-87f3-fa9d3f9db3d1",
   "metadata": {},
   "outputs": [
    {
     "name": "stdout",
     "output_type": "stream",
     "text": [
      "torch.Size([10, 32, 512])\n"
     ]
    }
   ],
   "source": [
    "# Decoder\n",
    "\n",
    "class DecoderBlock(nn.Module):\n",
    "\n",
    "    def __init__(self):\n",
    "        super().__init__()\n",
    "        self.d_model = D_MODEL\n",
    "        self.num_heads = NUM_HEADS\n",
    "        self.attn_dropout = ATTN_DROPOUT\n",
    "        self.ff_dropout = FF_DROPOUT\n",
    "        self.res_dropout = RES_DROPOUT\n",
    "        self.self_attention = MultiHeadAttention(self.d_model, self.num_heads, self.attn_dropout)\n",
    "        self.cross_attention = MultiHeadAttention(self.d_model, self.num_heads, self.attn_dropout)\n",
    "        self.feed_forward = FeedForward(self.d_model, self.ff_dropout)\n",
    "        self.res_connection1 = ResidualConnection(self.d_model, self.res_dropout)\n",
    "        self.res_connection2 = ResidualConnection(self.d_model, self.res_dropout)\n",
    "        self.res_connection3 = ResidualConnection(self.d_model, self.res_dropout)\n",
    "\n",
    "    def forward(self, x: torch.Tensor, encoder_out: torch.Tensor, src_attn_mask: torch.Tensor, tgt_attn_mask: torch.Tensor):\n",
    "        self_attn_out = self.res_connection1(x, lambda x: self.self_attention(x, x, x, tgt_attn_mask))\n",
    "        cross_attn_out = self.res_connection2(self_attn_out, lambda self_attn_out: self.cross_attention(self_attn_out, encoder_out, encoder_out, src_attn_mask))\n",
    "        dec_block_out = self.res_connection3(cross_attn_out, self.feed_forward)\n",
    "        return dec_block_out\n",
    "    \n",
    "class Decoder(nn.Module):\n",
    "\n",
    "    def __init__(self, d_model: int, num_layers: int):\n",
    "        super().__init__()\n",
    "        self.layers = nn.ModuleList([DecoderBlock() for _ in range(num_layers)])\n",
    "        self.layer_norm = LayerNorm(d_model, EPS)\n",
    "\n",
    "    def forward(self, x:torch.Tensor, encoder_out: torch.Tensor, src_attn_mask: torch.Tensor, tgt_attn_mask: torch.Tensor):\n",
    "        for layer in self.layers:\n",
    "            x = layer(x, encoder_out, src_attn_mask, tgt_attn_mask)\n",
    "        decoder_out = self.layer_norm(x)\n",
    "        return decoder_out\n",
    "\n",
    "a = torch.rand((BATCH_SIZE, MAX_SEQ_LEN, D_MODEL))\n",
    "DEC = Decoder(D_MODEL, NUM_LAYERS)\n",
    "print(DEC(a, a, None, None).shape)"
   ]
  },
  {
   "cell_type": "code",
   "execution_count": 17,
   "id": "81697735-880a-43a3-a2a9-011305d689cd",
   "metadata": {},
   "outputs": [
    {
     "name": "stdout",
     "output_type": "stream",
     "text": [
      "torch.Size([10, 32, 50000])\n"
     ]
    }
   ],
   "source": [
    "# transformer\n",
    "\n",
    "class Transformer(nn.Module):\n",
    "\n",
    "    def __init__(self):\n",
    "        super().__init__()\n",
    "        self.d_model = D_MODEL\n",
    "        self.num_layers = NUM_LAYERS\n",
    "        self.vocab_size = VOCAB_SIZE\n",
    "        self.inp_embedding = InputEmbeddings()\n",
    "        self.encoder = Encoder(self.d_model, self.num_layers)\n",
    "        self.decoder = Decoder(self.d_model, self.num_layers)\n",
    "        self.projection = nn.Linear(self.d_model, self.vocab_size)\n",
    "        self.__init__weights()\n",
    "\n",
    "    def forward(self, src_x, src_attn_mask, tgt_x, tgt_attn_mask):\n",
    "        src_embed = self.inp_embedding(src_x)\n",
    "        tgt_embed = self.inp_embedding(tgt_x)\n",
    "        encoder_out = self.encoder(src_embed, src_attn_mask)\n",
    "        decoder_out = self.decoder(tgt_embed, encoder_out, src_attn_mask, tgt_attn_mask)\n",
    "        transformer_out = self.projection(decoder_out)\n",
    "        return transformer_out\n",
    "    \n",
    "    def __init__weights(self):\n",
    "        for p in self.parameters():\n",
    "            if p.dim() > 1:\n",
    "                nn.init.xavier_uniform_(p)\n",
    "T = Transformer()\n",
    "a = torch.ones((BATCH_SIZE, MAX_SEQ_LEN), dtype = torch.int64)\n",
    "b = torch.ones((BATCH_SIZE, MAX_SEQ_LEN), dtype = torch.int64)\n",
    "print(T(a,None,b,None).shape)"
   ]
  },
  {
   "cell_type": "code",
   "execution_count": 18,
   "id": "efe898b3-3943-475f-8d33-30f35cb019a1",
   "metadata": {},
   "outputs": [],
   "source": [
    "# loss computation\n",
    "\n",
    "def compute_loss(logits: torch.Tensor, labels: torch.Tensor, loss_fn):\n",
    "    logits = logits.view(-1, VOCAB_SIZE)\n",
    "    labels = labels.view(-1)\n",
    "    loss = loss_fn(logits, labels)\n",
    "    return loss"
   ]
  },
  {
   "cell_type": "code",
   "execution_count": 37,
   "id": "89ce5da3-1cb2-4a75-9718-e36a7c56d79a",
   "metadata": {},
   "outputs": [
    {
     "name": "stdout",
     "output_type": "stream",
     "text": [
      "Loading the datasets...\n",
      "Initialize model...\n"
     ]
    },
    {
     "name": "stderr",
     "output_type": "stream",
     "text": [
      "Training 0: 100%|██████████| 2500/2500 [01:49<00:00, 22.80it/s]\n",
      "Training loss 0: 100%|██████████| 2500/2500 [00:44<00:00, 55.79it/s]\n"
     ]
    },
    {
     "name": "stdout",
     "output_type": "stream",
     "text": [
      "2.9935561979293825\n"
     ]
    },
    {
     "name": "stderr",
     "output_type": "stream",
     "text": [
      "Testing loss 0: 100%|██████████| 2500/2500 [00:44<00:00, 56.38it/s]\n"
     ]
    },
    {
     "name": "stdout",
     "output_type": "stream",
     "text": [
      "2.9935563274383545\n"
     ]
    },
    {
     "name": "stderr",
     "output_type": "stream",
     "text": [
      "Training 1: 100%|██████████| 2500/2500 [01:53<00:00, 22.03it/s]\n",
      "Training loss 1: 100%|██████████| 2500/2500 [00:45<00:00, 54.52it/s]\n"
     ]
    },
    {
     "name": "stdout",
     "output_type": "stream",
     "text": [
      "0.5594883009195327\n"
     ]
    },
    {
     "name": "stderr",
     "output_type": "stream",
     "text": [
      "Testing loss 1: 100%|██████████| 2500/2500 [00:44<00:00, 55.87it/s]\n"
     ]
    },
    {
     "name": "stdout",
     "output_type": "stream",
     "text": [
      "0.5594879052639008\n"
     ]
    },
    {
     "name": "stderr",
     "output_type": "stream",
     "text": [
      "Training 2: 100%|██████████| 2500/2500 [01:54<00:00, 21.90it/s]\n",
      "Training loss 2: 100%|██████████| 2500/2500 [00:46<00:00, 53.23it/s]\n"
     ]
    },
    {
     "name": "stdout",
     "output_type": "stream",
     "text": [
      "0.3798830001115799\n"
     ]
    },
    {
     "name": "stderr",
     "output_type": "stream",
     "text": [
      "Testing loss 2: 100%|██████████| 2500/2500 [00:45<00:00, 55.45it/s]\n"
     ]
    },
    {
     "name": "stdout",
     "output_type": "stream",
     "text": [
      "0.379882633960247\n"
     ]
    },
    {
     "name": "stderr",
     "output_type": "stream",
     "text": [
      "Training 3: 100%|██████████| 2500/2500 [01:54<00:00, 21.92it/s]\n",
      "Training loss 3: 100%|██████████| 2500/2500 [00:46<00:00, 53.50it/s]\n"
     ]
    },
    {
     "name": "stdout",
     "output_type": "stream",
     "text": [
      "0.3567025749921799\n"
     ]
    },
    {
     "name": "stderr",
     "output_type": "stream",
     "text": [
      "Testing loss 3: 100%|██████████| 2500/2500 [00:45<00:00, 54.90it/s]\n"
     ]
    },
    {
     "name": "stdout",
     "output_type": "stream",
     "text": [
      "0.3567024514079094\n"
     ]
    },
    {
     "name": "stderr",
     "output_type": "stream",
     "text": [
      "Training 4: 100%|██████████| 2500/2500 [01:53<00:00, 21.96it/s]\n",
      "Training loss 4: 100%|██████████| 2500/2500 [00:47<00:00, 52.70it/s]\n"
     ]
    },
    {
     "name": "stdout",
     "output_type": "stream",
     "text": [
      "0.35143837517499926\n"
     ]
    },
    {
     "name": "stderr",
     "output_type": "stream",
     "text": [
      "Testing loss 4: 100%|██████████| 2500/2500 [00:45<00:00, 54.63it/s]\n"
     ]
    },
    {
     "name": "stdout",
     "output_type": "stream",
     "text": [
      "0.3514383689522743\n"
     ]
    },
    {
     "name": "stderr",
     "output_type": "stream",
     "text": [
      "Training 5: 100%|██████████| 2500/2500 [01:53<00:00, 21.94it/s]\n",
      "Training loss 5: 100%|██████████| 2500/2500 [00:47<00:00, 52.90it/s]\n"
     ]
    },
    {
     "name": "stdout",
     "output_type": "stream",
     "text": [
      "0.349987625169754\n"
     ]
    },
    {
     "name": "stderr",
     "output_type": "stream",
     "text": [
      "Testing loss 5: 100%|██████████| 2500/2500 [00:45<00:00, 54.79it/s]\n"
     ]
    },
    {
     "name": "stdout",
     "output_type": "stream",
     "text": [
      "0.3499876247882843\n"
     ]
    },
    {
     "name": "stderr",
     "output_type": "stream",
     "text": [
      "Training 6: 100%|██████████| 2500/2500 [01:54<00:00, 21.86it/s]\n",
      "Training loss 6: 100%|██████████| 2500/2500 [00:47<00:00, 52.85it/s]\n"
     ]
    },
    {
     "name": "stdout",
     "output_type": "stream",
     "text": [
      "0.3548777103424072\n"
     ]
    },
    {
     "name": "stderr",
     "output_type": "stream",
     "text": [
      "Testing loss 6: 100%|██████████| 2500/2500 [00:45<00:00, 55.40it/s]\n"
     ]
    },
    {
     "name": "stdout",
     "output_type": "stream",
     "text": [
      "0.3548777103424072\n"
     ]
    },
    {
     "name": "stderr",
     "output_type": "stream",
     "text": [
      "Training 7: 100%|██████████| 2500/2500 [01:54<00:00, 21.85it/s]\n",
      "Training loss 7: 100%|██████████| 2500/2500 [00:47<00:00, 53.13it/s]\n"
     ]
    },
    {
     "name": "stdout",
     "output_type": "stream",
     "text": [
      "0.3495593305110931\n"
     ]
    },
    {
     "name": "stderr",
     "output_type": "stream",
     "text": [
      "Testing loss 7: 100%|██████████| 2500/2500 [00:45<00:00, 55.19it/s]\n"
     ]
    },
    {
     "name": "stdout",
     "output_type": "stream",
     "text": [
      "0.34955933690071106\n"
     ]
    },
    {
     "name": "stderr",
     "output_type": "stream",
     "text": [
      "Training 8: 100%|██████████| 2500/2500 [01:54<00:00, 21.79it/s]\n",
      "Training loss 8: 100%|██████████| 2500/2500 [00:47<00:00, 52.80it/s]\n"
     ]
    },
    {
     "name": "stdout",
     "output_type": "stream",
     "text": [
      "0.34917253255844116\n"
     ]
    },
    {
     "name": "stderr",
     "output_type": "stream",
     "text": [
      "Testing loss 8: 100%|██████████| 2500/2500 [00:45<00:00, 55.49it/s]\n"
     ]
    },
    {
     "name": "stdout",
     "output_type": "stream",
     "text": [
      "0.34917253255844116\n"
     ]
    },
    {
     "name": "stderr",
     "output_type": "stream",
     "text": [
      "Training 9: 100%|██████████| 2500/2500 [01:53<00:00, 21.94it/s]\n",
      "Training loss 9: 100%|██████████| 2500/2500 [00:47<00:00, 52.75it/s]\n"
     ]
    },
    {
     "name": "stdout",
     "output_type": "stream",
     "text": [
      "0.3502719679951668\n"
     ]
    },
    {
     "name": "stderr",
     "output_type": "stream",
     "text": [
      "Testing loss 9: 100%|██████████| 2500/2500 [00:45<00:00, 55.24it/s]\n"
     ]
    },
    {
     "name": "stdout",
     "output_type": "stream",
     "text": [
      "0.3502719849348068\n"
     ]
    },
    {
     "name": "stderr",
     "output_type": "stream",
     "text": [
      "Training 10: 100%|██████████| 2500/2500 [01:51<00:00, 22.50it/s]\n",
      "Training loss 10: 100%|██████████| 2500/2500 [00:41<00:00, 59.62it/s]\n"
     ]
    },
    {
     "name": "stdout",
     "output_type": "stream",
     "text": [
      "0.3496589412331581\n"
     ]
    },
    {
     "name": "stderr",
     "output_type": "stream",
     "text": [
      "Testing loss 10: 100%|██████████| 2500/2500 [00:40<00:00, 61.56it/s]\n"
     ]
    },
    {
     "name": "stdout",
     "output_type": "stream",
     "text": [
      "0.34965893626213074\n"
     ]
    },
    {
     "name": "stderr",
     "output_type": "stream",
     "text": [
      "Training 11: 100%|██████████| 2500/2500 [01:47<00:00, 23.19it/s]\n",
      "Training loss 11: 100%|██████████| 2500/2500 [00:42<00:00, 59.37it/s]\n"
     ]
    },
    {
     "name": "stdout",
     "output_type": "stream",
     "text": [
      "0.351377580678463\n"
     ]
    },
    {
     "name": "stderr",
     "output_type": "stream",
     "text": [
      "Testing loss 11: 100%|██████████| 2500/2500 [00:41<00:00, 59.98it/s]\n"
     ]
    },
    {
     "name": "stdout",
     "output_type": "stream",
     "text": [
      "0.35137757643461226\n"
     ]
    },
    {
     "name": "stderr",
     "output_type": "stream",
     "text": [
      "Training 12: 100%|██████████| 2500/2500 [01:47<00:00, 23.33it/s]\n",
      "Training loss 12: 100%|██████████| 2500/2500 [00:41<00:00, 59.76it/s]\n"
     ]
    },
    {
     "name": "stdout",
     "output_type": "stream",
     "text": [
      "0.3517321347475052\n"
     ]
    },
    {
     "name": "stderr",
     "output_type": "stream",
     "text": [
      "Testing loss 12: 100%|██████████| 2500/2500 [00:40<00:00, 61.47it/s]\n"
     ]
    },
    {
     "name": "stdout",
     "output_type": "stream",
     "text": [
      "0.35173211991786957\n"
     ]
    },
    {
     "name": "stderr",
     "output_type": "stream",
     "text": [
      "Training 13: 100%|██████████| 2500/2500 [01:48<00:00, 23.00it/s]\n",
      "Training loss 13: 100%|██████████| 2500/2500 [00:42<00:00, 59.25it/s]\n"
     ]
    },
    {
     "name": "stdout",
     "output_type": "stream",
     "text": [
      "0.35230426869392395\n"
     ]
    },
    {
     "name": "stderr",
     "output_type": "stream",
     "text": [
      "Testing loss 13: 100%|██████████| 2500/2500 [00:42<00:00, 59.43it/s]\n"
     ]
    },
    {
     "name": "stdout",
     "output_type": "stream",
     "text": [
      "0.35230427980422974\n"
     ]
    },
    {
     "name": "stderr",
     "output_type": "stream",
     "text": [
      "Training 14: 100%|██████████| 2500/2500 [01:51<00:00, 22.39it/s]\n",
      "Training loss 14: 100%|██████████| 2500/2500 [00:45<00:00, 54.51it/s]\n"
     ]
    },
    {
     "name": "stdout",
     "output_type": "stream",
     "text": [
      "0.35346810907125475\n"
     ]
    },
    {
     "name": "stderr",
     "output_type": "stream",
     "text": [
      "Testing loss 14: 100%|██████████| 2500/2500 [00:44<00:00, 56.52it/s]\n"
     ]
    },
    {
     "name": "stdout",
     "output_type": "stream",
     "text": [
      "0.353468120098114\n"
     ]
    },
    {
     "name": "stderr",
     "output_type": "stream",
     "text": [
      "Training 15: 100%|██████████| 2500/2500 [01:51<00:00, 22.41it/s]\n",
      "Training loss 15: 100%|██████████| 2500/2500 [00:45<00:00, 54.42it/s]\n"
     ]
    },
    {
     "name": "stdout",
     "output_type": "stream",
     "text": [
      "0.3534524193048477\n"
     ]
    },
    {
     "name": "stderr",
     "output_type": "stream",
     "text": [
      "Testing loss 15: 100%|██████████| 2500/2500 [00:44<00:00, 55.97it/s]\n"
     ]
    },
    {
     "name": "stdout",
     "output_type": "stream",
     "text": [
      "0.3534524142742157\n"
     ]
    },
    {
     "name": "stderr",
     "output_type": "stream",
     "text": [
      "Training 16: 100%|██████████| 2500/2500 [01:51<00:00, 22.38it/s]\n",
      "Training loss 16: 100%|██████████| 2500/2500 [00:46<00:00, 53.42it/s]\n"
     ]
    },
    {
     "name": "stdout",
     "output_type": "stream",
     "text": [
      "0.35348254425525666\n"
     ]
    },
    {
     "name": "stderr",
     "output_type": "stream",
     "text": [
      "Testing loss 16: 100%|██████████| 2500/2500 [00:44<00:00, 56.22it/s]\n"
     ]
    },
    {
     "name": "stdout",
     "output_type": "stream",
     "text": [
      "0.35348252952098846\n"
     ]
    },
    {
     "name": "stderr",
     "output_type": "stream",
     "text": [
      "Training 17: 100%|██████████| 2500/2500 [01:49<00:00, 22.77it/s]\n",
      "Training loss 17: 100%|██████████| 2500/2500 [00:41<00:00, 59.93it/s]\n"
     ]
    },
    {
     "name": "stdout",
     "output_type": "stream",
     "text": [
      "0.35254865882396696\n"
     ]
    },
    {
     "name": "stderr",
     "output_type": "stream",
     "text": [
      "Testing loss 17: 100%|██████████| 2500/2500 [00:40<00:00, 62.15it/s]\n"
     ]
    },
    {
     "name": "stdout",
     "output_type": "stream",
     "text": [
      "0.35254864394664764\n"
     ]
    },
    {
     "name": "stderr",
     "output_type": "stream",
     "text": [
      "Training 18: 100%|██████████| 2500/2500 [01:43<00:00, 24.15it/s]\n",
      "Training loss 18: 100%|██████████| 2500/2500 [00:40<00:00, 61.21it/s]\n"
     ]
    },
    {
     "name": "stdout",
     "output_type": "stream",
     "text": [
      "0.35166993987560274\n"
     ]
    },
    {
     "name": "stderr",
     "output_type": "stream",
     "text": [
      "Testing loss 18: 100%|██████████| 2500/2500 [00:39<00:00, 63.02it/s]\n"
     ]
    },
    {
     "name": "stdout",
     "output_type": "stream",
     "text": [
      "0.35166993737220764\n"
     ]
    },
    {
     "name": "stderr",
     "output_type": "stream",
     "text": [
      "Training 19: 100%|██████████| 2500/2500 [01:50<00:00, 22.66it/s]\n",
      "Training loss 19: 100%|██████████| 2500/2500 [00:46<00:00, 53.27it/s]\n"
     ]
    },
    {
     "name": "stdout",
     "output_type": "stream",
     "text": [
      "0.3516523240566254\n"
     ]
    },
    {
     "name": "stderr",
     "output_type": "stream",
     "text": [
      "Testing loss 19: 100%|██████████| 2500/2500 [00:44<00:00, 56.32it/s]\n"
     ]
    },
    {
     "name": "stdout",
     "output_type": "stream",
     "text": [
      "0.3516523241996765\n"
     ]
    },
    {
     "name": "stderr",
     "output_type": "stream",
     "text": [
      "Training 20: 100%|██████████| 2500/2500 [01:53<00:00, 22.04it/s]\n",
      "Training loss 20: 100%|██████████| 2500/2500 [00:47<00:00, 53.18it/s]\n"
     ]
    },
    {
     "name": "stdout",
     "output_type": "stream",
     "text": [
      "0.35096586458683016\n"
     ]
    },
    {
     "name": "stderr",
     "output_type": "stream",
     "text": [
      "Testing loss 20: 100%|██████████| 2500/2500 [00:44<00:00, 56.03it/s]\n"
     ]
    },
    {
     "name": "stdout",
     "output_type": "stream",
     "text": [
      "0.35096585750579834\n"
     ]
    },
    {
     "name": "stderr",
     "output_type": "stream",
     "text": [
      "Training 21: 100%|██████████| 2500/2500 [01:53<00:00, 22.06it/s]\n",
      "Training loss 21: 100%|██████████| 2500/2500 [00:46<00:00, 53.91it/s]\n"
     ]
    },
    {
     "name": "stdout",
     "output_type": "stream",
     "text": [
      "0.3529063175797462\n"
     ]
    },
    {
     "name": "stderr",
     "output_type": "stream",
     "text": [
      "Testing loss 21: 100%|██████████| 2500/2500 [00:44<00:00, 56.10it/s]\n"
     ]
    },
    {
     "name": "stdout",
     "output_type": "stream",
     "text": [
      "0.35290631651878357\n"
     ]
    },
    {
     "name": "stderr",
     "output_type": "stream",
     "text": [
      "Training 22: 100%|██████████| 2500/2500 [01:52<00:00, 22.18it/s]\n",
      "Training loss 22: 100%|██████████| 2500/2500 [00:46<00:00, 54.09it/s]\n"
     ]
    },
    {
     "name": "stdout",
     "output_type": "stream",
     "text": [
      "0.3512192886829376\n"
     ]
    },
    {
     "name": "stderr",
     "output_type": "stream",
     "text": [
      "Testing loss 22: 100%|██████████| 2500/2500 [00:40<00:00, 61.63it/s]\n"
     ]
    },
    {
     "name": "stdout",
     "output_type": "stream",
     "text": [
      "0.3512192964553833\n"
     ]
    },
    {
     "name": "stderr",
     "output_type": "stream",
     "text": [
      "Training 23: 100%|██████████| 2500/2500 [01:46<00:00, 23.50it/s]\n",
      "Training loss 23: 100%|██████████| 2500/2500 [00:41<00:00, 59.69it/s]\n"
     ]
    },
    {
     "name": "stdout",
     "output_type": "stream",
     "text": [
      "0.35145214676856995\n"
     ]
    },
    {
     "name": "stderr",
     "output_type": "stream",
     "text": [
      "Testing loss 23: 100%|██████████| 2500/2500 [00:40<00:00, 61.59it/s]\n"
     ]
    },
    {
     "name": "stdout",
     "output_type": "stream",
     "text": [
      "0.35145212709903717\n"
     ]
    },
    {
     "name": "stderr",
     "output_type": "stream",
     "text": [
      "Training 24: 100%|██████████| 2500/2500 [01:46<00:00, 23.51it/s]\n",
      "Training loss 24: 100%|██████████| 2500/2500 [00:41<00:00, 59.81it/s]\n"
     ]
    },
    {
     "name": "stdout",
     "output_type": "stream",
     "text": [
      "0.3505292749285698\n"
     ]
    },
    {
     "name": "stderr",
     "output_type": "stream",
     "text": [
      "Testing loss 24: 100%|██████████| 2500/2500 [00:40<00:00, 62.05it/s]\n"
     ]
    },
    {
     "name": "stdout",
     "output_type": "stream",
     "text": [
      "0.3505292683839798\n"
     ]
    },
    {
     "name": "stderr",
     "output_type": "stream",
     "text": [
      "Training 25: 100%|██████████| 2500/2500 [01:46<00:00, 23.45it/s]\n",
      "Training loss 25: 100%|██████████| 2500/2500 [00:41<00:00, 60.14it/s]\n"
     ]
    },
    {
     "name": "stdout",
     "output_type": "stream",
     "text": [
      "0.35024201134443284\n"
     ]
    },
    {
     "name": "stderr",
     "output_type": "stream",
     "text": [
      "Testing loss 25: 100%|██████████| 2500/2500 [00:40<00:00, 62.04it/s]\n"
     ]
    },
    {
     "name": "stdout",
     "output_type": "stream",
     "text": [
      "0.350242018699646\n"
     ]
    },
    {
     "name": "stderr",
     "output_type": "stream",
     "text": [
      "Training 26: 100%|██████████| 2500/2500 [01:46<00:00, 23.41it/s]\n",
      "Training loss 26: 100%|██████████| 2500/2500 [00:41<00:00, 59.90it/s]\n"
     ]
    },
    {
     "name": "stdout",
     "output_type": "stream",
     "text": [
      "0.35066472754478456\n"
     ]
    },
    {
     "name": "stderr",
     "output_type": "stream",
     "text": [
      "Testing loss 26: 100%|██████████| 2500/2500 [00:40<00:00, 61.96it/s]\n"
     ]
    },
    {
     "name": "stdout",
     "output_type": "stream",
     "text": [
      "0.35066473484039307\n"
     ]
    },
    {
     "name": "stderr",
     "output_type": "stream",
     "text": [
      "Training 27: 100%|██████████| 2500/2500 [01:46<00:00, 23.52it/s]\n",
      "Training loss 27: 100%|██████████| 2500/2500 [00:42<00:00, 59.40it/s]\n"
     ]
    },
    {
     "name": "stdout",
     "output_type": "stream",
     "text": [
      "0.3502116281867027\n"
     ]
    },
    {
     "name": "stderr",
     "output_type": "stream",
     "text": [
      "Testing loss 27: 100%|██████████| 2500/2500 [00:40<00:00, 61.36it/s]\n"
     ]
    },
    {
     "name": "stdout",
     "output_type": "stream",
     "text": [
      "0.35021162033081055\n"
     ]
    },
    {
     "name": "stderr",
     "output_type": "stream",
     "text": [
      "Training 28: 100%|██████████| 2500/2500 [01:46<00:00, 23.56it/s]\n",
      "Training loss 28: 100%|██████████| 2500/2500 [00:41<00:00, 60.37it/s]\n"
     ]
    },
    {
     "name": "stdout",
     "output_type": "stream",
     "text": [
      "0.3498586869597435\n"
     ]
    },
    {
     "name": "stderr",
     "output_type": "stream",
     "text": [
      "Testing loss 28: 100%|██████████| 2500/2500 [00:40<00:00, 61.82it/s]\n"
     ]
    },
    {
     "name": "stdout",
     "output_type": "stream",
     "text": [
      "0.34985868632793427\n"
     ]
    },
    {
     "name": "stderr",
     "output_type": "stream",
     "text": [
      "Training 29: 100%|██████████| 2500/2500 [01:46<00:00, 23.53it/s]\n",
      "Training loss 29: 100%|██████████| 2500/2500 [00:41<00:00, 59.82it/s]\n"
     ]
    },
    {
     "name": "stdout",
     "output_type": "stream",
     "text": [
      "0.34986711267232895\n"
     ]
    },
    {
     "name": "stderr",
     "output_type": "stream",
     "text": [
      "Testing loss 29: 100%|██████████| 2500/2500 [00:43<00:00, 57.55it/s]\n"
     ]
    },
    {
     "name": "stdout",
     "output_type": "stream",
     "text": [
      "0.3498671054840088\n"
     ]
    },
    {
     "name": "stderr",
     "output_type": "stream",
     "text": [
      "Training 30: 100%|██████████| 2500/2500 [01:53<00:00, 22.09it/s]\n",
      "Training loss 30: 100%|██████████| 2500/2500 [00:47<00:00, 53.11it/s]\n"
     ]
    },
    {
     "name": "stdout",
     "output_type": "stream",
     "text": [
      "0.349857210958004\n"
     ]
    },
    {
     "name": "stderr",
     "output_type": "stream",
     "text": [
      "Testing loss 30: 100%|██████████| 2500/2500 [00:44<00:00, 55.62it/s]\n"
     ]
    },
    {
     "name": "stdout",
     "output_type": "stream",
     "text": [
      "0.3498572111129761\n"
     ]
    },
    {
     "name": "stderr",
     "output_type": "stream",
     "text": [
      "Training 31: 100%|██████████| 2500/2500 [01:52<00:00, 22.19it/s]\n",
      "Training loss 31: 100%|██████████| 2500/2500 [00:46<00:00, 53.46it/s]\n"
     ]
    },
    {
     "name": "stdout",
     "output_type": "stream",
     "text": [
      "0.3495367481231689\n"
     ]
    },
    {
     "name": "stderr",
     "output_type": "stream",
     "text": [
      "Testing loss 31: 100%|██████████| 2500/2500 [00:44<00:00, 55.64it/s]\n"
     ]
    },
    {
     "name": "stdout",
     "output_type": "stream",
     "text": [
      "0.3495367467403412\n"
     ]
    },
    {
     "name": "stderr",
     "output_type": "stream",
     "text": [
      "Training 32: 100%|██████████| 2500/2500 [01:50<00:00, 22.72it/s]\n",
      "Training loss 32: 100%|██████████| 2500/2500 [00:41<00:00, 59.69it/s]\n"
     ]
    },
    {
     "name": "stdout",
     "output_type": "stream",
     "text": [
      "0.3491070977807045\n"
     ]
    },
    {
     "name": "stderr",
     "output_type": "stream",
     "text": [
      "Testing loss 32: 100%|██████████| 2500/2500 [00:40<00:00, 61.13it/s]\n"
     ]
    },
    {
     "name": "stdout",
     "output_type": "stream",
     "text": [
      "0.3491070866584778\n"
     ]
    },
    {
     "name": "stderr",
     "output_type": "stream",
     "text": [
      "Training 33: 100%|██████████| 2500/2500 [01:48<00:00, 23.15it/s]\n",
      "Training loss 33: 100%|██████████| 2500/2500 [00:42<00:00, 59.16it/s]\n"
     ]
    },
    {
     "name": "stdout",
     "output_type": "stream",
     "text": [
      "0.35021162773370745\n"
     ]
    },
    {
     "name": "stderr",
     "output_type": "stream",
     "text": [
      "Testing loss 33: 100%|██████████| 2500/2500 [00:40<00:00, 61.51it/s]\n"
     ]
    },
    {
     "name": "stdout",
     "output_type": "stream",
     "text": [
      "0.35021162033081055\n"
     ]
    },
    {
     "name": "stderr",
     "output_type": "stream",
     "text": [
      "Training 34: 100%|██████████| 2500/2500 [01:46<00:00, 23.55it/s]\n",
      "Training loss 34: 100%|██████████| 2500/2500 [00:42<00:00, 59.41it/s]\n"
     ]
    },
    {
     "name": "stdout",
     "output_type": "stream",
     "text": [
      "0.34918051958084106\n"
     ]
    },
    {
     "name": "stderr",
     "output_type": "stream",
     "text": [
      "Testing loss 34: 100%|██████████| 2500/2500 [00:40<00:00, 61.26it/s]\n"
     ]
    },
    {
     "name": "stdout",
     "output_type": "stream",
     "text": [
      "0.34918051958084106\n"
     ]
    },
    {
     "name": "stderr",
     "output_type": "stream",
     "text": [
      "Training 35: 100%|██████████| 2500/2500 [01:46<00:00, 23.46it/s]\n",
      "Training loss 35: 100%|██████████| 2500/2500 [00:42<00:00, 59.51it/s]\n"
     ]
    },
    {
     "name": "stdout",
     "output_type": "stream",
     "text": [
      "0.34956409375667574\n"
     ]
    },
    {
     "name": "stderr",
     "output_type": "stream",
     "text": [
      "Testing loss 35: 100%|██████████| 2500/2500 [00:40<00:00, 61.43it/s]\n"
     ]
    },
    {
     "name": "stdout",
     "output_type": "stream",
     "text": [
      "0.3495640903711319\n"
     ]
    },
    {
     "name": "stderr",
     "output_type": "stream",
     "text": [
      "Training 36: 100%|██████████| 2500/2500 [01:47<00:00, 23.18it/s]\n",
      "Training loss 36: 100%|██████████| 2500/2500 [00:42<00:00, 58.78it/s]\n"
     ]
    },
    {
     "name": "stdout",
     "output_type": "stream",
     "text": [
      "0.3498623117089272\n"
     ]
    },
    {
     "name": "stderr",
     "output_type": "stream",
     "text": [
      "Testing loss 36: 100%|██████████| 2500/2500 [00:43<00:00, 57.58it/s]\n"
     ]
    },
    {
     "name": "stdout",
     "output_type": "stream",
     "text": [
      "0.3498622924089432\n"
     ]
    },
    {
     "name": "stderr",
     "output_type": "stream",
     "text": [
      "Training 37: 100%|██████████| 2500/2500 [01:54<00:00, 21.86it/s]\n",
      "Training loss 37: 100%|██████████| 2500/2500 [00:47<00:00, 53.07it/s]\n"
     ]
    },
    {
     "name": "stdout",
     "output_type": "stream",
     "text": [
      "0.3492669463157654\n"
     ]
    },
    {
     "name": "stderr",
     "output_type": "stream",
     "text": [
      "Testing loss 37: 100%|██████████| 2500/2500 [00:45<00:00, 55.30it/s]\n"
     ]
    },
    {
     "name": "stdout",
     "output_type": "stream",
     "text": [
      "0.3492669463157654\n"
     ]
    },
    {
     "name": "stderr",
     "output_type": "stream",
     "text": [
      "Training 38: 100%|██████████| 2500/2500 [01:51<00:00, 22.39it/s]\n",
      "Training loss 38: 100%|██████████| 2500/2500 [00:42<00:00, 59.17it/s]\n"
     ]
    },
    {
     "name": "stdout",
     "output_type": "stream",
     "text": [
      "0.34860809851884844\n"
     ]
    },
    {
     "name": "stderr",
     "output_type": "stream",
     "text": [
      "Testing loss 38: 100%|██████████| 2500/2500 [00:40<00:00, 61.06it/s]\n"
     ]
    },
    {
     "name": "stdout",
     "output_type": "stream",
     "text": [
      "0.3486081063747406\n"
     ]
    },
    {
     "name": "stderr",
     "output_type": "stream",
     "text": [
      "Training 39: 100%|██████████| 2500/2500 [01:48<00:00, 22.98it/s]\n",
      "Training loss 39: 100%|██████████| 2500/2500 [00:41<00:00, 59.53it/s]\n"
     ]
    },
    {
     "name": "stdout",
     "output_type": "stream",
     "text": [
      "0.3486627564311027\n"
     ]
    },
    {
     "name": "stderr",
     "output_type": "stream",
     "text": [
      "Testing loss 39: 100%|██████████| 2500/2500 [00:41<00:00, 60.31it/s]\n"
     ]
    },
    {
     "name": "stdout",
     "output_type": "stream",
     "text": [
      "0.34866274893283844\n"
     ]
    },
    {
     "name": "stderr",
     "output_type": "stream",
     "text": [
      "Training 40: 100%|██████████| 2500/2500 [01:49<00:00, 22.93it/s]\n",
      "Training loss 40: 100%|██████████| 2500/2500 [00:42<00:00, 59.48it/s]\n"
     ]
    },
    {
     "name": "stdout",
     "output_type": "stream",
     "text": [
      "0.3485300726056099\n"
     ]
    },
    {
     "name": "stderr",
     "output_type": "stream",
     "text": [
      "Testing loss 40: 100%|██████████| 2500/2500 [00:42<00:00, 59.46it/s]\n"
     ]
    },
    {
     "name": "stdout",
     "output_type": "stream",
     "text": [
      "0.3485300689935684\n"
     ]
    },
    {
     "name": "stderr",
     "output_type": "stream",
     "text": [
      "Training 41: 100%|██████████| 2500/2500 [01:51<00:00, 22.51it/s]\n",
      "Training loss 41: 100%|██████████| 2500/2500 [00:47<00:00, 53.17it/s]\n"
     ]
    },
    {
     "name": "stdout",
     "output_type": "stream",
     "text": [
      "0.3495653288245201\n"
     ]
    },
    {
     "name": "stderr",
     "output_type": "stream",
     "text": [
      "Testing loss 41: 100%|██████████| 2500/2500 [00:45<00:00, 54.90it/s]\n"
     ]
    },
    {
     "name": "stdout",
     "output_type": "stream",
     "text": [
      "0.349565327167511\n"
     ]
    },
    {
     "name": "stderr",
     "output_type": "stream",
     "text": [
      "Training 42: 100%|██████████| 2500/2500 [01:53<00:00, 21.95it/s]\n",
      "Training loss 42: 100%|██████████| 2500/2500 [00:47<00:00, 52.45it/s]\n"
     ]
    },
    {
     "name": "stdout",
     "output_type": "stream",
     "text": [
      "0.34884363782405853\n"
     ]
    },
    {
     "name": "stderr",
     "output_type": "stream",
     "text": [
      "Testing loss 42: 100%|██████████| 2500/2500 [00:45<00:00, 54.87it/s]\n"
     ]
    },
    {
     "name": "stdout",
     "output_type": "stream",
     "text": [
      "0.34884363412857056\n"
     ]
    },
    {
     "name": "stderr",
     "output_type": "stream",
     "text": [
      "Training 43: 100%|██████████| 2500/2500 [01:54<00:00, 21.79it/s]\n",
      "Training loss 43: 100%|██████████| 2500/2500 [00:47<00:00, 53.01it/s]\n"
     ]
    },
    {
     "name": "stdout",
     "output_type": "stream",
     "text": [
      "0.3483759415984154\n"
     ]
    },
    {
     "name": "stderr",
     "output_type": "stream",
     "text": [
      "Testing loss 43: 100%|██████████| 2500/2500 [00:45<00:00, 54.92it/s]\n"
     ]
    },
    {
     "name": "stdout",
     "output_type": "stream",
     "text": [
      "0.34837594628334045\n"
     ]
    },
    {
     "name": "stderr",
     "output_type": "stream",
     "text": [
      "Training 44: 100%|██████████| 2500/2500 [01:54<00:00, 21.76it/s]\n",
      "Training loss 44: 100%|██████████| 2500/2500 [00:47<00:00, 52.14it/s]\n"
     ]
    },
    {
     "name": "stdout",
     "output_type": "stream",
     "text": [
      "0.3484070522069931\n"
     ]
    },
    {
     "name": "stderr",
     "output_type": "stream",
     "text": [
      "Testing loss 44: 100%|██████████| 2500/2500 [00:45<00:00, 54.78it/s]\n"
     ]
    },
    {
     "name": "stdout",
     "output_type": "stream",
     "text": [
      "0.348407045006752\n"
     ]
    },
    {
     "name": "stderr",
     "output_type": "stream",
     "text": [
      "Training 45: 100%|██████████| 2500/2500 [01:54<00:00, 21.75it/s]\n",
      "Training loss 45: 100%|██████████| 2500/2500 [00:48<00:00, 51.81it/s]\n"
     ]
    },
    {
     "name": "stdout",
     "output_type": "stream",
     "text": [
      "0.3483073907613754\n"
     ]
    },
    {
     "name": "stderr",
     "output_type": "stream",
     "text": [
      "Testing loss 45: 100%|██████████| 2500/2500 [00:45<00:00, 55.25it/s]\n"
     ]
    },
    {
     "name": "stdout",
     "output_type": "stream",
     "text": [
      "0.34830738604068756\n"
     ]
    },
    {
     "name": "stderr",
     "output_type": "stream",
     "text": [
      "Training 46: 100%|██████████| 2500/2500 [01:53<00:00, 22.07it/s]\n",
      "Training loss 46: 100%|██████████| 2500/2500 [00:47<00:00, 52.51it/s]\n"
     ]
    },
    {
     "name": "stdout",
     "output_type": "stream",
     "text": [
      "0.34843650460243225\n"
     ]
    },
    {
     "name": "stderr",
     "output_type": "stream",
     "text": [
      "Testing loss 46: 100%|██████████| 2500/2500 [00:45<00:00, 54.72it/s]\n"
     ]
    },
    {
     "name": "stdout",
     "output_type": "stream",
     "text": [
      "0.34843650460243225\n"
     ]
    },
    {
     "name": "stderr",
     "output_type": "stream",
     "text": [
      "Training 47: 100%|██████████| 2500/2500 [01:55<00:00, 21.68it/s]\n",
      "Training loss 47: 100%|██████████| 2500/2500 [00:47<00:00, 52.21it/s]\n"
     ]
    },
    {
     "name": "stdout",
     "output_type": "stream",
     "text": [
      "0.3486859465122223\n"
     ]
    },
    {
     "name": "stderr",
     "output_type": "stream",
     "text": [
      "Testing loss 47: 100%|██████████| 2500/2500 [00:45<00:00, 55.03it/s]\n"
     ]
    },
    {
     "name": "stdout",
     "output_type": "stream",
     "text": [
      "0.34868595004081726\n"
     ]
    },
    {
     "name": "stderr",
     "output_type": "stream",
     "text": [
      "Training 48: 100%|██████████| 2500/2500 [01:55<00:00, 21.68it/s]\n",
      "Training loss 48: 100%|██████████| 2500/2500 [00:47<00:00, 52.50it/s]\n"
     ]
    },
    {
     "name": "stdout",
     "output_type": "stream",
     "text": [
      "0.34846379714012143\n"
     ]
    },
    {
     "name": "stderr",
     "output_type": "stream",
     "text": [
      "Testing loss 48: 100%|██████████| 2500/2500 [00:46<00:00, 54.15it/s]\n"
     ]
    },
    {
     "name": "stdout",
     "output_type": "stream",
     "text": [
      "0.3484638035297394\n"
     ]
    },
    {
     "name": "stderr",
     "output_type": "stream",
     "text": [
      "Training 49: 100%|██████████| 2500/2500 [01:55<00:00, 21.71it/s]\n",
      "Training loss 49: 100%|██████████| 2500/2500 [00:47<00:00, 52.25it/s]\n"
     ]
    },
    {
     "name": "stdout",
     "output_type": "stream",
     "text": [
      "0.34834082659482957\n"
     ]
    },
    {
     "name": "stderr",
     "output_type": "stream",
     "text": [
      "Testing loss 49: 100%|██████████| 2500/2500 [00:45<00:00, 54.48it/s]\n"
     ]
    },
    {
     "name": "stdout",
     "output_type": "stream",
     "text": [
      "0.34834083914756775\n"
     ]
    },
    {
     "name": "stderr",
     "output_type": "stream",
     "text": [
      "Training 50: 100%|██████████| 2500/2500 [01:54<00:00, 21.83it/s]\n",
      "Training loss 50: 100%|██████████| 2500/2500 [00:56<00:00, 43.90it/s]\n"
     ]
    },
    {
     "name": "stdout",
     "output_type": "stream",
     "text": [
      "0.34955651050806047\n"
     ]
    },
    {
     "name": "stderr",
     "output_type": "stream",
     "text": [
      "Testing loss 50: 100%|██████████| 2500/2500 [01:12<00:00, 34.43it/s]\n"
     ]
    },
    {
     "name": "stdout",
     "output_type": "stream",
     "text": [
      "0.34955650568008423\n"
     ]
    },
    {
     "name": "stderr",
     "output_type": "stream",
     "text": [
      "Training 51: 100%|██████████| 2500/2500 [02:29<00:00, 16.69it/s]\n",
      "Training loss 51: 100%|██████████| 2500/2500 [00:45<00:00, 54.47it/s]\n"
     ]
    },
    {
     "name": "stdout",
     "output_type": "stream",
     "text": [
      "0.3482837270021439\n"
     ]
    },
    {
     "name": "stderr",
     "output_type": "stream",
     "text": [
      "Testing loss 51: 100%|██████████| 2500/2500 [00:44<00:00, 55.73it/s]\n"
     ]
    },
    {
     "name": "stdout",
     "output_type": "stream",
     "text": [
      "0.3482837378978729\n"
     ]
    },
    {
     "name": "stderr",
     "output_type": "stream",
     "text": [
      "Training 52: 100%|██████████| 2500/2500 [01:54<00:00, 21.77it/s]\n",
      "Training loss 52: 100%|██████████| 2500/2500 [00:48<00:00, 52.00it/s]\n"
     ]
    },
    {
     "name": "stdout",
     "output_type": "stream",
     "text": [
      "0.34845307577848433\n"
     ]
    },
    {
     "name": "stderr",
     "output_type": "stream",
     "text": [
      "Testing loss 52: 100%|██████████| 2500/2500 [00:45<00:00, 54.50it/s]\n"
     ]
    },
    {
     "name": "stdout",
     "output_type": "stream",
     "text": [
      "0.3484530746936798\n"
     ]
    },
    {
     "name": "stderr",
     "output_type": "stream",
     "text": [
      "Training 53: 100%|██████████| 2500/2500 [01:54<00:00, 21.77it/s]\n",
      "Training loss 53: 100%|██████████| 2500/2500 [00:47<00:00, 52.44it/s]\n"
     ]
    },
    {
     "name": "stdout",
     "output_type": "stream",
     "text": [
      "0.34921814895868303\n"
     ]
    },
    {
     "name": "stderr",
     "output_type": "stream",
     "text": [
      "Testing loss 53: 100%|██████████| 2500/2500 [00:44<00:00, 55.57it/s]\n"
     ]
    },
    {
     "name": "stdout",
     "output_type": "stream",
     "text": [
      "0.34921814501285553\n"
     ]
    },
    {
     "name": "stderr",
     "output_type": "stream",
     "text": [
      "Training 54: 100%|██████████| 2500/2500 [01:55<00:00, 21.72it/s]\n",
      "Training loss 54: 100%|██████████| 2500/2500 [00:47<00:00, 53.05it/s]\n"
     ]
    },
    {
     "name": "stdout",
     "output_type": "stream",
     "text": [
      "0.3493185470342636\n"
     ]
    },
    {
     "name": "stderr",
     "output_type": "stream",
     "text": [
      "Testing loss 54: 100%|██████████| 2500/2500 [00:45<00:00, 54.42it/s]\n"
     ]
    },
    {
     "name": "stdout",
     "output_type": "stream",
     "text": [
      "0.34931856393814087\n"
     ]
    },
    {
     "name": "stderr",
     "output_type": "stream",
     "text": [
      "Training 55: 100%|██████████| 2500/2500 [01:54<00:00, 21.78it/s]\n",
      "Training loss 55: 100%|██████████| 2500/2500 [00:47<00:00, 52.14it/s]\n"
     ]
    },
    {
     "name": "stdout",
     "output_type": "stream",
     "text": [
      "0.34876005226373674\n"
     ]
    },
    {
     "name": "stderr",
     "output_type": "stream",
     "text": [
      "Testing loss 55: 100%|██████████| 2500/2500 [00:45<00:00, 55.25it/s]\n"
     ]
    },
    {
     "name": "stdout",
     "output_type": "stream",
     "text": [
      "0.34876005351543427\n"
     ]
    },
    {
     "name": "stderr",
     "output_type": "stream",
     "text": [
      "Training 56: 100%|██████████| 2500/2500 [02:04<00:00, 20.07it/s]\n",
      "Training loss 56: 100%|██████████| 2500/2500 [01:12<00:00, 34.51it/s]\n"
     ]
    },
    {
     "name": "stdout",
     "output_type": "stream",
     "text": [
      "0.34833804731369017\n"
     ]
    },
    {
     "name": "stderr",
     "output_type": "stream",
     "text": [
      "Testing loss 56: 100%|██████████| 2500/2500 [01:12<00:00, 34.57it/s]\n"
     ]
    },
    {
     "name": "stdout",
     "output_type": "stream",
     "text": [
      "0.3483380377292633\n"
     ]
    },
    {
     "name": "stderr",
     "output_type": "stream",
     "text": [
      "Training 57: 100%|██████████| 2500/2500 [02:27<00:00, 16.93it/s]\n",
      "Training loss 57: 100%|██████████| 2500/2500 [01:12<00:00, 34.66it/s]\n"
     ]
    },
    {
     "name": "stdout",
     "output_type": "stream",
     "text": [
      "0.3482517600059509\n"
     ]
    },
    {
     "name": "stderr",
     "output_type": "stream",
     "text": [
      "Testing loss 57: 100%|██████████| 2500/2500 [01:11<00:00, 34.85it/s]\n"
     ]
    },
    {
     "name": "stdout",
     "output_type": "stream",
     "text": [
      "0.3482517600059509\n"
     ]
    },
    {
     "name": "stderr",
     "output_type": "stream",
     "text": [
      "Training 58: 100%|██████████| 2500/2500 [02:27<00:00, 16.91it/s]\n",
      "Training loss 58: 100%|██████████| 2500/2500 [01:12<00:00, 34.62it/s]\n"
     ]
    },
    {
     "name": "stdout",
     "output_type": "stream",
     "text": [
      "0.34826291382312774\n"
     ]
    },
    {
     "name": "stderr",
     "output_type": "stream",
     "text": [
      "Testing loss 58: 100%|██████████| 2500/2500 [01:11<00:00, 34.92it/s]\n"
     ]
    },
    {
     "name": "stdout",
     "output_type": "stream",
     "text": [
      "0.3482629060745239\n"
     ]
    },
    {
     "name": "stderr",
     "output_type": "stream",
     "text": [
      "Training 59: 100%|██████████| 2500/2500 [02:27<00:00, 16.91it/s]\n",
      "Training loss 59: 100%|██████████| 2500/2500 [01:12<00:00, 34.64it/s]\n"
     ]
    },
    {
     "name": "stdout",
     "output_type": "stream",
     "text": [
      "0.34914665184021\n"
     ]
    },
    {
     "name": "stderr",
     "output_type": "stream",
     "text": [
      "Testing loss 59: 100%|██████████| 2500/2500 [01:11<00:00, 34.88it/s]\n"
     ]
    },
    {
     "name": "stdout",
     "output_type": "stream",
     "text": [
      "0.34914664924144745\n"
     ]
    },
    {
     "name": "stderr",
     "output_type": "stream",
     "text": [
      "Training 60: 100%|██████████| 2500/2500 [02:27<00:00, 16.93it/s]\n",
      "Training loss 60: 100%|██████████| 2500/2500 [01:12<00:00, 34.62it/s]\n"
     ]
    },
    {
     "name": "stdout",
     "output_type": "stream",
     "text": [
      "0.3485894802212715\n"
     ]
    },
    {
     "name": "stderr",
     "output_type": "stream",
     "text": [
      "Testing loss 60: 100%|██████████| 2500/2500 [01:12<00:00, 34.64it/s]\n"
     ]
    },
    {
     "name": "stdout",
     "output_type": "stream",
     "text": [
      "0.3485894799232483\n"
     ]
    },
    {
     "name": "stderr",
     "output_type": "stream",
     "text": [
      "Training 61: 100%|██████████| 2500/2500 [02:27<00:00, 16.91it/s]\n",
      "Training loss 61: 100%|██████████| 2500/2500 [01:12<00:00, 34.42it/s]\n"
     ]
    },
    {
     "name": "stdout",
     "output_type": "stream",
     "text": [
      "0.34844433906078337\n"
     ]
    },
    {
     "name": "stderr",
     "output_type": "stream",
     "text": [
      "Testing loss 61: 100%|██████████| 2500/2500 [01:11<00:00, 34.78it/s]\n"
     ]
    },
    {
     "name": "stdout",
     "output_type": "stream",
     "text": [
      "0.3484443426132202\n"
     ]
    },
    {
     "name": "stderr",
     "output_type": "stream",
     "text": [
      "Training 62: 100%|██████████| 2500/2500 [02:27<00:00, 16.97it/s]\n",
      "Training loss 62: 100%|██████████| 2500/2500 [01:41<00:00, 24.64it/s]\n"
     ]
    },
    {
     "name": "stdout",
     "output_type": "stream",
     "text": [
      "0.3481858197927475\n"
     ]
    },
    {
     "name": "stderr",
     "output_type": "stream",
     "text": [
      "Testing loss 62: 100%|██████████| 2500/2500 [02:33<00:00, 16.32it/s]\n"
     ]
    },
    {
     "name": "stdout",
     "output_type": "stream",
     "text": [
      "0.34818580746650696\n"
     ]
    },
    {
     "name": "stderr",
     "output_type": "stream",
     "text": [
      "Training 63: 100%|██████████| 2500/2500 [8:20:17<00:00, 12.01s/it]       \n",
      "Training loss 63: 100%|██████████| 2500/2500 [00:41<00:00, 59.71it/s]\n"
     ]
    },
    {
     "name": "stdout",
     "output_type": "stream",
     "text": [
      "0.34816652562618255\n"
     ]
    },
    {
     "name": "stderr",
     "output_type": "stream",
     "text": [
      "Testing loss 63: 100%|██████████| 2500/2500 [00:48<00:00, 51.55it/s]\n"
     ]
    },
    {
     "name": "stdout",
     "output_type": "stream",
     "text": [
      "0.3481665253639221\n"
     ]
    },
    {
     "name": "stderr",
     "output_type": "stream",
     "text": [
      "Training 64: 100%|██████████| 2500/2500 [01:44<00:00, 23.84it/s]\n",
      "Training loss 64: 100%|██████████| 2500/2500 [00:45<00:00, 55.04it/s]\n"
     ]
    },
    {
     "name": "stdout",
     "output_type": "stream",
     "text": [
      "0.34868108456134794\n"
     ]
    },
    {
     "name": "stderr",
     "output_type": "stream",
     "text": [
      "Testing loss 64: 100%|██████████| 2500/2500 [00:48<00:00, 51.55it/s]\n"
     ]
    },
    {
     "name": "stdout",
     "output_type": "stream",
     "text": [
      "0.3486810773611069\n"
     ]
    },
    {
     "name": "stderr",
     "output_type": "stream",
     "text": [
      "Training 65: 100%|██████████| 2500/2500 [01:48<00:00, 23.03it/s]\n",
      "Training loss 65: 100%|██████████| 2500/2500 [00:41<00:00, 59.68it/s]\n"
     ]
    },
    {
     "name": "stdout",
     "output_type": "stream",
     "text": [
      "0.34815850979089735\n"
     ]
    },
    {
     "name": "stderr",
     "output_type": "stream",
     "text": [
      "Testing loss 65: 100%|██████████| 2500/2500 [00:40<00:00, 62.01it/s]\n"
     ]
    },
    {
     "name": "stdout",
     "output_type": "stream",
     "text": [
      "0.34815850853919983\n"
     ]
    },
    {
     "name": "stderr",
     "output_type": "stream",
     "text": [
      "Training 66: 100%|██████████| 2500/2500 [01:47<00:00, 23.33it/s]\n",
      "Training loss 66: 100%|██████████| 2500/2500 [00:45<00:00, 54.55it/s]\n"
     ]
    },
    {
     "name": "stdout",
     "output_type": "stream",
     "text": [
      "0.34827416051626203\n"
     ]
    },
    {
     "name": "stderr",
     "output_type": "stream",
     "text": [
      "Testing loss 66: 100%|██████████| 2500/2500 [00:49<00:00, 50.33it/s]\n"
     ]
    },
    {
     "name": "stdout",
     "output_type": "stream",
     "text": [
      "0.3482741713523865\n"
     ]
    },
    {
     "name": "stderr",
     "output_type": "stream",
     "text": [
      "Training 67: 100%|██████████| 2500/2500 [02:03<00:00, 20.27it/s]\n",
      "Training loss 67: 100%|██████████| 2500/2500 [00:43<00:00, 57.00it/s]\n"
     ]
    },
    {
     "name": "stdout",
     "output_type": "stream",
     "text": [
      "0.34816622672080993\n"
     ]
    },
    {
     "name": "stderr",
     "output_type": "stream",
     "text": [
      "Testing loss 67: 100%|██████████| 2500/2500 [00:42<00:00, 58.89it/s]\n"
     ]
    },
    {
     "name": "stdout",
     "output_type": "stream",
     "text": [
      "0.34816622734069824\n"
     ]
    },
    {
     "name": "stderr",
     "output_type": "stream",
     "text": [
      "Training 68: 100%|██████████| 2500/2500 [01:49<00:00, 22.93it/s]\n",
      "Training loss 68: 100%|██████████| 2500/2500 [00:43<00:00, 58.12it/s]\n"
     ]
    },
    {
     "name": "stdout",
     "output_type": "stream",
     "text": [
      "0.3482855743288994\n"
     ]
    },
    {
     "name": "stderr",
     "output_type": "stream",
     "text": [
      "Testing loss 68: 100%|██████████| 2500/2500 [01:01<00:00, 40.39it/s]\n"
     ]
    },
    {
     "name": "stdout",
     "output_type": "stream",
     "text": [
      "0.34828557074069977\n"
     ]
    },
    {
     "name": "stderr",
     "output_type": "stream",
     "text": [
      "Training 69: 100%|██████████| 2500/2500 [02:27<00:00, 16.90it/s]\n",
      "Training loss 69: 100%|██████████| 2500/2500 [01:12<00:00, 34.50it/s]\n"
     ]
    },
    {
     "name": "stdout",
     "output_type": "stream",
     "text": [
      "0.34818718489408496\n"
     ]
    },
    {
     "name": "stderr",
     "output_type": "stream",
     "text": [
      "Testing loss 69: 100%|██████████| 2500/2500 [01:12<00:00, 34.72it/s]\n"
     ]
    },
    {
     "name": "stdout",
     "output_type": "stream",
     "text": [
      "0.3481871783733368\n"
     ]
    },
    {
     "name": "stderr",
     "output_type": "stream",
     "text": [
      "Training 70: 100%|██████████| 2500/2500 [02:29<00:00, 16.75it/s]\n",
      "Training loss 70: 100%|██████████| 2500/2500 [01:12<00:00, 34.36it/s]\n"
     ]
    },
    {
     "name": "stdout",
     "output_type": "stream",
     "text": [
      "0.3483403213262558\n"
     ]
    },
    {
     "name": "stderr",
     "output_type": "stream",
     "text": [
      "Testing loss 70: 100%|██████████| 2500/2500 [01:11<00:00, 34.74it/s]\n"
     ]
    },
    {
     "name": "stdout",
     "output_type": "stream",
     "text": [
      "0.34834033250808716\n"
     ]
    },
    {
     "name": "stderr",
     "output_type": "stream",
     "text": [
      "Training 71: 100%|██████████| 2500/2500 [02:29<00:00, 16.76it/s]\n",
      "Training loss 71: 100%|██████████| 2500/2500 [01:12<00:00, 34.56it/s]\n"
     ]
    },
    {
     "name": "stdout",
     "output_type": "stream",
     "text": [
      "0.34816011786460876\n"
     ]
    },
    {
     "name": "stderr",
     "output_type": "stream",
     "text": [
      "Testing loss 71: 100%|██████████| 2500/2500 [01:11<00:00, 34.86it/s]\n"
     ]
    },
    {
     "name": "stdout",
     "output_type": "stream",
     "text": [
      "0.34816011786460876\n"
     ]
    },
    {
     "name": "stderr",
     "output_type": "stream",
     "text": [
      "Training 72: 100%|██████████| 2500/2500 [02:29<00:00, 16.77it/s]\n",
      "Training loss 72: 100%|██████████| 2500/2500 [01:12<00:00, 34.72it/s]\n"
     ]
    },
    {
     "name": "stdout",
     "output_type": "stream",
     "text": [
      "0.3484006125688553\n"
     ]
    },
    {
     "name": "stderr",
     "output_type": "stream",
     "text": [
      "Testing loss 72: 100%|██████████| 2500/2500 [01:11<00:00, 34.86it/s]\n"
     ]
    },
    {
     "name": "stdout",
     "output_type": "stream",
     "text": [
      "0.3484005928039551\n"
     ]
    },
    {
     "name": "stderr",
     "output_type": "stream",
     "text": [
      "Training 73:  92%|█████████▏| 2297/2500 [02:16<00:12, 16.82it/s]\n"
     ]
    },
    {
     "ename": "KeyboardInterrupt",
     "evalue": "",
     "output_type": "error",
     "traceback": [
      "\u001b[1;31m---------------------------------------------------------------------------\u001b[0m",
      "\u001b[1;31mKeyboardInterrupt\u001b[0m                         Traceback (most recent call last)",
      "Cell \u001b[1;32mIn[37], line 33\u001b[0m\n\u001b[0;32m     30\u001b[0m tgt_attn_mask \u001b[38;5;241m=\u001b[39m batch[\u001b[38;5;124m\"\u001b[39m\u001b[38;5;124mdecoder_attention_mask\u001b[39m\u001b[38;5;124m\"\u001b[39m]\u001b[38;5;241m.\u001b[39mto(DEVICE)\n\u001b[0;32m     31\u001b[0m labels \u001b[38;5;241m=\u001b[39m batch[\u001b[38;5;124m\"\u001b[39m\u001b[38;5;124mlabels\u001b[39m\u001b[38;5;124m\"\u001b[39m]\u001b[38;5;241m.\u001b[39mto(DEVICE)\n\u001b[1;32m---> 33\u001b[0m model_logits \u001b[38;5;241m=\u001b[39m model(src_x, src_attn_mask, tgt_x, tgt_attn_mask)\n\u001b[0;32m     35\u001b[0m loss \u001b[38;5;241m=\u001b[39m compute_loss(model_logits, labels, loss_fn )\n\u001b[0;32m     37\u001b[0m loss\u001b[38;5;241m.\u001b[39mbackward()\n",
      "File \u001b[1;32m~\\anaconda3\\Lib\\site-packages\\torch\\nn\\modules\\module.py:1511\u001b[0m, in \u001b[0;36mModule._wrapped_call_impl\u001b[1;34m(self, *args, **kwargs)\u001b[0m\n\u001b[0;32m   1509\u001b[0m     \u001b[38;5;28;01mreturn\u001b[39;00m \u001b[38;5;28mself\u001b[39m\u001b[38;5;241m.\u001b[39m_compiled_call_impl(\u001b[38;5;241m*\u001b[39margs, \u001b[38;5;241m*\u001b[39m\u001b[38;5;241m*\u001b[39mkwargs)  \u001b[38;5;66;03m# type: ignore[misc]\u001b[39;00m\n\u001b[0;32m   1510\u001b[0m \u001b[38;5;28;01melse\u001b[39;00m:\n\u001b[1;32m-> 1511\u001b[0m     \u001b[38;5;28;01mreturn\u001b[39;00m \u001b[38;5;28mself\u001b[39m\u001b[38;5;241m.\u001b[39m_call_impl(\u001b[38;5;241m*\u001b[39margs, \u001b[38;5;241m*\u001b[39m\u001b[38;5;241m*\u001b[39mkwargs)\n",
      "File \u001b[1;32m~\\anaconda3\\Lib\\site-packages\\torch\\nn\\modules\\module.py:1520\u001b[0m, in \u001b[0;36mModule._call_impl\u001b[1;34m(self, *args, **kwargs)\u001b[0m\n\u001b[0;32m   1515\u001b[0m \u001b[38;5;66;03m# If we don't have any hooks, we want to skip the rest of the logic in\u001b[39;00m\n\u001b[0;32m   1516\u001b[0m \u001b[38;5;66;03m# this function, and just call forward.\u001b[39;00m\n\u001b[0;32m   1517\u001b[0m \u001b[38;5;28;01mif\u001b[39;00m \u001b[38;5;129;01mnot\u001b[39;00m (\u001b[38;5;28mself\u001b[39m\u001b[38;5;241m.\u001b[39m_backward_hooks \u001b[38;5;129;01mor\u001b[39;00m \u001b[38;5;28mself\u001b[39m\u001b[38;5;241m.\u001b[39m_backward_pre_hooks \u001b[38;5;129;01mor\u001b[39;00m \u001b[38;5;28mself\u001b[39m\u001b[38;5;241m.\u001b[39m_forward_hooks \u001b[38;5;129;01mor\u001b[39;00m \u001b[38;5;28mself\u001b[39m\u001b[38;5;241m.\u001b[39m_forward_pre_hooks\n\u001b[0;32m   1518\u001b[0m         \u001b[38;5;129;01mor\u001b[39;00m _global_backward_pre_hooks \u001b[38;5;129;01mor\u001b[39;00m _global_backward_hooks\n\u001b[0;32m   1519\u001b[0m         \u001b[38;5;129;01mor\u001b[39;00m _global_forward_hooks \u001b[38;5;129;01mor\u001b[39;00m _global_forward_pre_hooks):\n\u001b[1;32m-> 1520\u001b[0m     \u001b[38;5;28;01mreturn\u001b[39;00m forward_call(\u001b[38;5;241m*\u001b[39margs, \u001b[38;5;241m*\u001b[39m\u001b[38;5;241m*\u001b[39mkwargs)\n\u001b[0;32m   1522\u001b[0m \u001b[38;5;28;01mtry\u001b[39;00m:\n\u001b[0;32m   1523\u001b[0m     result \u001b[38;5;241m=\u001b[39m \u001b[38;5;28;01mNone\u001b[39;00m\n",
      "Cell \u001b[1;32mIn[17], line 19\u001b[0m, in \u001b[0;36mTransformer.forward\u001b[1;34m(self, src_x, src_attn_mask, tgt_x, tgt_attn_mask)\u001b[0m\n\u001b[0;32m     17\u001b[0m src_embed \u001b[38;5;241m=\u001b[39m \u001b[38;5;28mself\u001b[39m\u001b[38;5;241m.\u001b[39minp_embedding(src_x)\n\u001b[0;32m     18\u001b[0m tgt_embed \u001b[38;5;241m=\u001b[39m \u001b[38;5;28mself\u001b[39m\u001b[38;5;241m.\u001b[39minp_embedding(tgt_x)\n\u001b[1;32m---> 19\u001b[0m encoder_out \u001b[38;5;241m=\u001b[39m \u001b[38;5;28mself\u001b[39m\u001b[38;5;241m.\u001b[39mencoder(src_embed, src_attn_mask)\n\u001b[0;32m     20\u001b[0m decoder_out \u001b[38;5;241m=\u001b[39m \u001b[38;5;28mself\u001b[39m\u001b[38;5;241m.\u001b[39mdecoder(tgt_embed, encoder_out, src_attn_mask, tgt_attn_mask)\n\u001b[0;32m     21\u001b[0m transformer_out \u001b[38;5;241m=\u001b[39m \u001b[38;5;28mself\u001b[39m\u001b[38;5;241m.\u001b[39mprojection(decoder_out)\n",
      "File \u001b[1;32m~\\anaconda3\\Lib\\site-packages\\torch\\nn\\modules\\module.py:1511\u001b[0m, in \u001b[0;36mModule._wrapped_call_impl\u001b[1;34m(self, *args, **kwargs)\u001b[0m\n\u001b[0;32m   1509\u001b[0m     \u001b[38;5;28;01mreturn\u001b[39;00m \u001b[38;5;28mself\u001b[39m\u001b[38;5;241m.\u001b[39m_compiled_call_impl(\u001b[38;5;241m*\u001b[39margs, \u001b[38;5;241m*\u001b[39m\u001b[38;5;241m*\u001b[39mkwargs)  \u001b[38;5;66;03m# type: ignore[misc]\u001b[39;00m\n\u001b[0;32m   1510\u001b[0m \u001b[38;5;28;01melse\u001b[39;00m:\n\u001b[1;32m-> 1511\u001b[0m     \u001b[38;5;28;01mreturn\u001b[39;00m \u001b[38;5;28mself\u001b[39m\u001b[38;5;241m.\u001b[39m_call_impl(\u001b[38;5;241m*\u001b[39margs, \u001b[38;5;241m*\u001b[39m\u001b[38;5;241m*\u001b[39mkwargs)\n",
      "File \u001b[1;32m~\\anaconda3\\Lib\\site-packages\\torch\\nn\\modules\\module.py:1520\u001b[0m, in \u001b[0;36mModule._call_impl\u001b[1;34m(self, *args, **kwargs)\u001b[0m\n\u001b[0;32m   1515\u001b[0m \u001b[38;5;66;03m# If we don't have any hooks, we want to skip the rest of the logic in\u001b[39;00m\n\u001b[0;32m   1516\u001b[0m \u001b[38;5;66;03m# this function, and just call forward.\u001b[39;00m\n\u001b[0;32m   1517\u001b[0m \u001b[38;5;28;01mif\u001b[39;00m \u001b[38;5;129;01mnot\u001b[39;00m (\u001b[38;5;28mself\u001b[39m\u001b[38;5;241m.\u001b[39m_backward_hooks \u001b[38;5;129;01mor\u001b[39;00m \u001b[38;5;28mself\u001b[39m\u001b[38;5;241m.\u001b[39m_backward_pre_hooks \u001b[38;5;129;01mor\u001b[39;00m \u001b[38;5;28mself\u001b[39m\u001b[38;5;241m.\u001b[39m_forward_hooks \u001b[38;5;129;01mor\u001b[39;00m \u001b[38;5;28mself\u001b[39m\u001b[38;5;241m.\u001b[39m_forward_pre_hooks\n\u001b[0;32m   1518\u001b[0m         \u001b[38;5;129;01mor\u001b[39;00m _global_backward_pre_hooks \u001b[38;5;129;01mor\u001b[39;00m _global_backward_hooks\n\u001b[0;32m   1519\u001b[0m         \u001b[38;5;129;01mor\u001b[39;00m _global_forward_hooks \u001b[38;5;129;01mor\u001b[39;00m _global_forward_pre_hooks):\n\u001b[1;32m-> 1520\u001b[0m     \u001b[38;5;28;01mreturn\u001b[39;00m forward_call(\u001b[38;5;241m*\u001b[39margs, \u001b[38;5;241m*\u001b[39m\u001b[38;5;241m*\u001b[39mkwargs)\n\u001b[0;32m   1522\u001b[0m \u001b[38;5;28;01mtry\u001b[39;00m:\n\u001b[0;32m   1523\u001b[0m     result \u001b[38;5;241m=\u001b[39m \u001b[38;5;28;01mNone\u001b[39;00m\n",
      "Cell \u001b[1;32mIn[15], line 31\u001b[0m, in \u001b[0;36mEncoder.forward\u001b[1;34m(self, x, attn_mask)\u001b[0m\n\u001b[0;32m     29\u001b[0m \u001b[38;5;28;01mdef\u001b[39;00m \u001b[38;5;21mforward\u001b[39m(\u001b[38;5;28mself\u001b[39m, x:torch\u001b[38;5;241m.\u001b[39mTensor, attn_mask: torch\u001b[38;5;241m.\u001b[39mTensor):\n\u001b[0;32m     30\u001b[0m     \u001b[38;5;28;01mfor\u001b[39;00m layer \u001b[38;5;129;01min\u001b[39;00m \u001b[38;5;28mself\u001b[39m\u001b[38;5;241m.\u001b[39mlayers:\n\u001b[1;32m---> 31\u001b[0m         x \u001b[38;5;241m=\u001b[39m layer(x, attn_mask)\n\u001b[0;32m     32\u001b[0m     encoder_out \u001b[38;5;241m=\u001b[39m \u001b[38;5;28mself\u001b[39m\u001b[38;5;241m.\u001b[39mlayer_norm(x)\n\u001b[0;32m     33\u001b[0m     \u001b[38;5;28;01mreturn\u001b[39;00m encoder_out\n",
      "File \u001b[1;32m~\\anaconda3\\Lib\\site-packages\\torch\\nn\\modules\\module.py:1511\u001b[0m, in \u001b[0;36mModule._wrapped_call_impl\u001b[1;34m(self, *args, **kwargs)\u001b[0m\n\u001b[0;32m   1509\u001b[0m     \u001b[38;5;28;01mreturn\u001b[39;00m \u001b[38;5;28mself\u001b[39m\u001b[38;5;241m.\u001b[39m_compiled_call_impl(\u001b[38;5;241m*\u001b[39margs, \u001b[38;5;241m*\u001b[39m\u001b[38;5;241m*\u001b[39mkwargs)  \u001b[38;5;66;03m# type: ignore[misc]\u001b[39;00m\n\u001b[0;32m   1510\u001b[0m \u001b[38;5;28;01melse\u001b[39;00m:\n\u001b[1;32m-> 1511\u001b[0m     \u001b[38;5;28;01mreturn\u001b[39;00m \u001b[38;5;28mself\u001b[39m\u001b[38;5;241m.\u001b[39m_call_impl(\u001b[38;5;241m*\u001b[39margs, \u001b[38;5;241m*\u001b[39m\u001b[38;5;241m*\u001b[39mkwargs)\n",
      "File \u001b[1;32m~\\anaconda3\\Lib\\site-packages\\torch\\nn\\modules\\module.py:1520\u001b[0m, in \u001b[0;36mModule._call_impl\u001b[1;34m(self, *args, **kwargs)\u001b[0m\n\u001b[0;32m   1515\u001b[0m \u001b[38;5;66;03m# If we don't have any hooks, we want to skip the rest of the logic in\u001b[39;00m\n\u001b[0;32m   1516\u001b[0m \u001b[38;5;66;03m# this function, and just call forward.\u001b[39;00m\n\u001b[0;32m   1517\u001b[0m \u001b[38;5;28;01mif\u001b[39;00m \u001b[38;5;129;01mnot\u001b[39;00m (\u001b[38;5;28mself\u001b[39m\u001b[38;5;241m.\u001b[39m_backward_hooks \u001b[38;5;129;01mor\u001b[39;00m \u001b[38;5;28mself\u001b[39m\u001b[38;5;241m.\u001b[39m_backward_pre_hooks \u001b[38;5;129;01mor\u001b[39;00m \u001b[38;5;28mself\u001b[39m\u001b[38;5;241m.\u001b[39m_forward_hooks \u001b[38;5;129;01mor\u001b[39;00m \u001b[38;5;28mself\u001b[39m\u001b[38;5;241m.\u001b[39m_forward_pre_hooks\n\u001b[0;32m   1518\u001b[0m         \u001b[38;5;129;01mor\u001b[39;00m _global_backward_pre_hooks \u001b[38;5;129;01mor\u001b[39;00m _global_backward_hooks\n\u001b[0;32m   1519\u001b[0m         \u001b[38;5;129;01mor\u001b[39;00m _global_forward_hooks \u001b[38;5;129;01mor\u001b[39;00m _global_forward_pre_hooks):\n\u001b[1;32m-> 1520\u001b[0m     \u001b[38;5;28;01mreturn\u001b[39;00m forward_call(\u001b[38;5;241m*\u001b[39margs, \u001b[38;5;241m*\u001b[39m\u001b[38;5;241m*\u001b[39mkwargs)\n\u001b[0;32m   1522\u001b[0m \u001b[38;5;28;01mtry\u001b[39;00m:\n\u001b[0;32m   1523\u001b[0m     result \u001b[38;5;241m=\u001b[39m \u001b[38;5;28;01mNone\u001b[39;00m\n",
      "Cell \u001b[1;32mIn[15], line 19\u001b[0m, in \u001b[0;36mEncoderBlock.forward\u001b[1;34m(self, x, src_attn_mask)\u001b[0m\n\u001b[0;32m     17\u001b[0m \u001b[38;5;28;01mdef\u001b[39;00m \u001b[38;5;21mforward\u001b[39m(\u001b[38;5;28mself\u001b[39m, x: torch\u001b[38;5;241m.\u001b[39mTensor, src_attn_mask: torch\u001b[38;5;241m.\u001b[39mTensor):\n\u001b[0;32m     18\u001b[0m     attn_out \u001b[38;5;241m=\u001b[39m \u001b[38;5;28mself\u001b[39m\u001b[38;5;241m.\u001b[39mres_connection1(x, \u001b[38;5;28;01mlambda\u001b[39;00m x: \u001b[38;5;28mself\u001b[39m\u001b[38;5;241m.\u001b[39mself_attention(x, x, x, src_attn_mask))\n\u001b[1;32m---> 19\u001b[0m     enc_block_out \u001b[38;5;241m=\u001b[39m \u001b[38;5;28mself\u001b[39m\u001b[38;5;241m.\u001b[39mres_connection2(attn_out, \u001b[38;5;28mself\u001b[39m\u001b[38;5;241m.\u001b[39mfeed_forward)\n\u001b[0;32m     20\u001b[0m     \u001b[38;5;28;01mreturn\u001b[39;00m enc_block_out\n",
      "File \u001b[1;32m~\\anaconda3\\Lib\\site-packages\\torch\\nn\\modules\\module.py:1511\u001b[0m, in \u001b[0;36mModule._wrapped_call_impl\u001b[1;34m(self, *args, **kwargs)\u001b[0m\n\u001b[0;32m   1509\u001b[0m     \u001b[38;5;28;01mreturn\u001b[39;00m \u001b[38;5;28mself\u001b[39m\u001b[38;5;241m.\u001b[39m_compiled_call_impl(\u001b[38;5;241m*\u001b[39margs, \u001b[38;5;241m*\u001b[39m\u001b[38;5;241m*\u001b[39mkwargs)  \u001b[38;5;66;03m# type: ignore[misc]\u001b[39;00m\n\u001b[0;32m   1510\u001b[0m \u001b[38;5;28;01melse\u001b[39;00m:\n\u001b[1;32m-> 1511\u001b[0m     \u001b[38;5;28;01mreturn\u001b[39;00m \u001b[38;5;28mself\u001b[39m\u001b[38;5;241m.\u001b[39m_call_impl(\u001b[38;5;241m*\u001b[39margs, \u001b[38;5;241m*\u001b[39m\u001b[38;5;241m*\u001b[39mkwargs)\n",
      "File \u001b[1;32m~\\anaconda3\\Lib\\site-packages\\torch\\nn\\modules\\module.py:1520\u001b[0m, in \u001b[0;36mModule._call_impl\u001b[1;34m(self, *args, **kwargs)\u001b[0m\n\u001b[0;32m   1515\u001b[0m \u001b[38;5;66;03m# If we don't have any hooks, we want to skip the rest of the logic in\u001b[39;00m\n\u001b[0;32m   1516\u001b[0m \u001b[38;5;66;03m# this function, and just call forward.\u001b[39;00m\n\u001b[0;32m   1517\u001b[0m \u001b[38;5;28;01mif\u001b[39;00m \u001b[38;5;129;01mnot\u001b[39;00m (\u001b[38;5;28mself\u001b[39m\u001b[38;5;241m.\u001b[39m_backward_hooks \u001b[38;5;129;01mor\u001b[39;00m \u001b[38;5;28mself\u001b[39m\u001b[38;5;241m.\u001b[39m_backward_pre_hooks \u001b[38;5;129;01mor\u001b[39;00m \u001b[38;5;28mself\u001b[39m\u001b[38;5;241m.\u001b[39m_forward_hooks \u001b[38;5;129;01mor\u001b[39;00m \u001b[38;5;28mself\u001b[39m\u001b[38;5;241m.\u001b[39m_forward_pre_hooks\n\u001b[0;32m   1518\u001b[0m         \u001b[38;5;129;01mor\u001b[39;00m _global_backward_pre_hooks \u001b[38;5;129;01mor\u001b[39;00m _global_backward_hooks\n\u001b[0;32m   1519\u001b[0m         \u001b[38;5;129;01mor\u001b[39;00m _global_forward_hooks \u001b[38;5;129;01mor\u001b[39;00m _global_forward_pre_hooks):\n\u001b[1;32m-> 1520\u001b[0m     \u001b[38;5;28;01mreturn\u001b[39;00m forward_call(\u001b[38;5;241m*\u001b[39margs, \u001b[38;5;241m*\u001b[39m\u001b[38;5;241m*\u001b[39mkwargs)\n\u001b[0;32m   1522\u001b[0m \u001b[38;5;28;01mtry\u001b[39;00m:\n\u001b[0;32m   1523\u001b[0m     result \u001b[38;5;241m=\u001b[39m \u001b[38;5;28;01mNone\u001b[39;00m\n",
      "Cell \u001b[1;32mIn[14], line 26\u001b[0m, in \u001b[0;36mResidualConnection.forward\u001b[1;34m(self, x, sublayer)\u001b[0m\n\u001b[0;32m     25\u001b[0m \u001b[38;5;28;01mdef\u001b[39;00m \u001b[38;5;21mforward\u001b[39m(\u001b[38;5;28mself\u001b[39m, x, sublayer):\n\u001b[1;32m---> 26\u001b[0m     sublayer_out \u001b[38;5;241m=\u001b[39m \u001b[38;5;28mself\u001b[39m\u001b[38;5;241m.\u001b[39mdropout_layer(sublayer(\u001b[38;5;28mself\u001b[39m\u001b[38;5;241m.\u001b[39mlayer_norm_layer(x)))\n\u001b[0;32m     27\u001b[0m     add_layer_norm_out \u001b[38;5;241m=\u001b[39m x \u001b[38;5;241m+\u001b[39m sublayer_out\n\u001b[0;32m     28\u001b[0m     \u001b[38;5;28;01mreturn\u001b[39;00m add_layer_norm_out\n",
      "File \u001b[1;32m~\\anaconda3\\Lib\\site-packages\\torch\\nn\\modules\\module.py:1511\u001b[0m, in \u001b[0;36mModule._wrapped_call_impl\u001b[1;34m(self, *args, **kwargs)\u001b[0m\n\u001b[0;32m   1509\u001b[0m     \u001b[38;5;28;01mreturn\u001b[39;00m \u001b[38;5;28mself\u001b[39m\u001b[38;5;241m.\u001b[39m_compiled_call_impl(\u001b[38;5;241m*\u001b[39margs, \u001b[38;5;241m*\u001b[39m\u001b[38;5;241m*\u001b[39mkwargs)  \u001b[38;5;66;03m# type: ignore[misc]\u001b[39;00m\n\u001b[0;32m   1510\u001b[0m \u001b[38;5;28;01melse\u001b[39;00m:\n\u001b[1;32m-> 1511\u001b[0m     \u001b[38;5;28;01mreturn\u001b[39;00m \u001b[38;5;28mself\u001b[39m\u001b[38;5;241m.\u001b[39m_call_impl(\u001b[38;5;241m*\u001b[39margs, \u001b[38;5;241m*\u001b[39m\u001b[38;5;241m*\u001b[39mkwargs)\n",
      "File \u001b[1;32m~\\anaconda3\\Lib\\site-packages\\torch\\nn\\modules\\module.py:1520\u001b[0m, in \u001b[0;36mModule._call_impl\u001b[1;34m(self, *args, **kwargs)\u001b[0m\n\u001b[0;32m   1515\u001b[0m \u001b[38;5;66;03m# If we don't have any hooks, we want to skip the rest of the logic in\u001b[39;00m\n\u001b[0;32m   1516\u001b[0m \u001b[38;5;66;03m# this function, and just call forward.\u001b[39;00m\n\u001b[0;32m   1517\u001b[0m \u001b[38;5;28;01mif\u001b[39;00m \u001b[38;5;129;01mnot\u001b[39;00m (\u001b[38;5;28mself\u001b[39m\u001b[38;5;241m.\u001b[39m_backward_hooks \u001b[38;5;129;01mor\u001b[39;00m \u001b[38;5;28mself\u001b[39m\u001b[38;5;241m.\u001b[39m_backward_pre_hooks \u001b[38;5;129;01mor\u001b[39;00m \u001b[38;5;28mself\u001b[39m\u001b[38;5;241m.\u001b[39m_forward_hooks \u001b[38;5;129;01mor\u001b[39;00m \u001b[38;5;28mself\u001b[39m\u001b[38;5;241m.\u001b[39m_forward_pre_hooks\n\u001b[0;32m   1518\u001b[0m         \u001b[38;5;129;01mor\u001b[39;00m _global_backward_pre_hooks \u001b[38;5;129;01mor\u001b[39;00m _global_backward_hooks\n\u001b[0;32m   1519\u001b[0m         \u001b[38;5;129;01mor\u001b[39;00m _global_forward_hooks \u001b[38;5;129;01mor\u001b[39;00m _global_forward_pre_hooks):\n\u001b[1;32m-> 1520\u001b[0m     \u001b[38;5;28;01mreturn\u001b[39;00m forward_call(\u001b[38;5;241m*\u001b[39margs, \u001b[38;5;241m*\u001b[39m\u001b[38;5;241m*\u001b[39mkwargs)\n\u001b[0;32m   1522\u001b[0m \u001b[38;5;28;01mtry\u001b[39;00m:\n\u001b[0;32m   1523\u001b[0m     result \u001b[38;5;241m=\u001b[39m \u001b[38;5;28;01mNone\u001b[39;00m\n",
      "Cell \u001b[1;32mIn[12], line 16\u001b[0m, in \u001b[0;36mFeedForward.forward\u001b[1;34m(self, x)\u001b[0m\n\u001b[0;32m     15\u001b[0m \u001b[38;5;28;01mdef\u001b[39;00m \u001b[38;5;21mforward\u001b[39m(\u001b[38;5;28mself\u001b[39m, x:torch\u001b[38;5;241m.\u001b[39mTensor):\n\u001b[1;32m---> 16\u001b[0m     linear_1_out \u001b[38;5;241m=\u001b[39m \u001b[38;5;28mself\u001b[39m\u001b[38;5;241m.\u001b[39mlinear_1(x)\n\u001b[0;32m     17\u001b[0m     linear_1_out \u001b[38;5;241m=\u001b[39m \u001b[38;5;28mself\u001b[39m\u001b[38;5;241m.\u001b[39mactivation_fn(linear_1_out)\n\u001b[0;32m     18\u001b[0m     linear_1_out \u001b[38;5;241m=\u001b[39m \u001b[38;5;28mself\u001b[39m\u001b[38;5;241m.\u001b[39mff_dropout_layer(linear_1_out)\n",
      "File \u001b[1;32m~\\anaconda3\\Lib\\site-packages\\torch\\nn\\modules\\module.py:1511\u001b[0m, in \u001b[0;36mModule._wrapped_call_impl\u001b[1;34m(self, *args, **kwargs)\u001b[0m\n\u001b[0;32m   1509\u001b[0m     \u001b[38;5;28;01mreturn\u001b[39;00m \u001b[38;5;28mself\u001b[39m\u001b[38;5;241m.\u001b[39m_compiled_call_impl(\u001b[38;5;241m*\u001b[39margs, \u001b[38;5;241m*\u001b[39m\u001b[38;5;241m*\u001b[39mkwargs)  \u001b[38;5;66;03m# type: ignore[misc]\u001b[39;00m\n\u001b[0;32m   1510\u001b[0m \u001b[38;5;28;01melse\u001b[39;00m:\n\u001b[1;32m-> 1511\u001b[0m     \u001b[38;5;28;01mreturn\u001b[39;00m \u001b[38;5;28mself\u001b[39m\u001b[38;5;241m.\u001b[39m_call_impl(\u001b[38;5;241m*\u001b[39margs, \u001b[38;5;241m*\u001b[39m\u001b[38;5;241m*\u001b[39mkwargs)\n",
      "File \u001b[1;32m~\\anaconda3\\Lib\\site-packages\\torch\\nn\\modules\\module.py:1520\u001b[0m, in \u001b[0;36mModule._call_impl\u001b[1;34m(self, *args, **kwargs)\u001b[0m\n\u001b[0;32m   1515\u001b[0m \u001b[38;5;66;03m# If we don't have any hooks, we want to skip the rest of the logic in\u001b[39;00m\n\u001b[0;32m   1516\u001b[0m \u001b[38;5;66;03m# this function, and just call forward.\u001b[39;00m\n\u001b[0;32m   1517\u001b[0m \u001b[38;5;28;01mif\u001b[39;00m \u001b[38;5;129;01mnot\u001b[39;00m (\u001b[38;5;28mself\u001b[39m\u001b[38;5;241m.\u001b[39m_backward_hooks \u001b[38;5;129;01mor\u001b[39;00m \u001b[38;5;28mself\u001b[39m\u001b[38;5;241m.\u001b[39m_backward_pre_hooks \u001b[38;5;129;01mor\u001b[39;00m \u001b[38;5;28mself\u001b[39m\u001b[38;5;241m.\u001b[39m_forward_hooks \u001b[38;5;129;01mor\u001b[39;00m \u001b[38;5;28mself\u001b[39m\u001b[38;5;241m.\u001b[39m_forward_pre_hooks\n\u001b[0;32m   1518\u001b[0m         \u001b[38;5;129;01mor\u001b[39;00m _global_backward_pre_hooks \u001b[38;5;129;01mor\u001b[39;00m _global_backward_hooks\n\u001b[0;32m   1519\u001b[0m         \u001b[38;5;129;01mor\u001b[39;00m _global_forward_hooks \u001b[38;5;129;01mor\u001b[39;00m _global_forward_pre_hooks):\n\u001b[1;32m-> 1520\u001b[0m     \u001b[38;5;28;01mreturn\u001b[39;00m forward_call(\u001b[38;5;241m*\u001b[39margs, \u001b[38;5;241m*\u001b[39m\u001b[38;5;241m*\u001b[39mkwargs)\n\u001b[0;32m   1522\u001b[0m \u001b[38;5;28;01mtry\u001b[39;00m:\n\u001b[0;32m   1523\u001b[0m     result \u001b[38;5;241m=\u001b[39m \u001b[38;5;28;01mNone\u001b[39;00m\n",
      "File \u001b[1;32m~\\anaconda3\\Lib\\site-packages\\torch\\nn\\modules\\linear.py:116\u001b[0m, in \u001b[0;36mLinear.forward\u001b[1;34m(self, input)\u001b[0m\n\u001b[0;32m    115\u001b[0m \u001b[38;5;28;01mdef\u001b[39;00m \u001b[38;5;21mforward\u001b[39m(\u001b[38;5;28mself\u001b[39m, \u001b[38;5;28minput\u001b[39m: Tensor) \u001b[38;5;241m-\u001b[39m\u001b[38;5;241m>\u001b[39m Tensor:\n\u001b[1;32m--> 116\u001b[0m     \u001b[38;5;28;01mreturn\u001b[39;00m F\u001b[38;5;241m.\u001b[39mlinear(\u001b[38;5;28minput\u001b[39m, \u001b[38;5;28mself\u001b[39m\u001b[38;5;241m.\u001b[39mweight, \u001b[38;5;28mself\u001b[39m\u001b[38;5;241m.\u001b[39mbias)\n",
      "\u001b[1;31mKeyboardInterrupt\u001b[0m: "
     ]
    }
   ],
   "source": [
    "# train\n",
    "\n",
    "print(\"Loading the datasets...\")\n",
    "#CD_train = ClassificationDataset(data_id, tokenizer, MAX_SEQ_LEN, \"text\", \"label\", \"train\")\n",
    "#CD_test = ClassificationDataset(data_id, tokenizer, MAX_SEQ_LEN, \"text\", \"label\", \"test\")\n",
    "\n",
    "train_dl = DataLoader(CD_train, BATCH_SIZE, num_workers=0, pin_memory=True, shuffle=True)\n",
    "test_dl = DataLoader(CD_test, BATCH_SIZE, num_workers=0, pin_memory=True)\n",
    "\n",
    "print(\"Initialize model...\")\n",
    "model = Transformer()\n",
    "model.to(DEVICE)\n",
    "\n",
    "opt = torch.optim.Adam(model.parameters(), lr = LR, weight_decay=WEIGHT_DECAY)\n",
    "sched = torch.optim.lr_scheduler.OneCycleLR(opt, LR, epochs=NUM_EPOCHS, steps_per_epoch=len(train_dl))\n",
    "loss_fn = nn.CrossEntropyLoss(ignore_index=tokenizer.token_to_id('[PAD]')).to(\"cuda\")\n",
    "\n",
    "train_ = []\n",
    "test_ = []\n",
    "\n",
    "for e in range(NUM_EPOCHS):\n",
    "    model.train()\n",
    "    train_losses = []\n",
    "    test_losses = []\n",
    "    for batch in tqdm(train_dl, desc=f\"Training {e}\"):\n",
    "        \n",
    "        src_x = batch[\"encoder_input_ids\"].to(DEVICE)\n",
    "        src_attn_mask = batch[\"encoder_attention_mask\"].to(DEVICE)\n",
    "        tgt_x = batch[\"decoder_input_ids\"].to(DEVICE)\n",
    "        tgt_attn_mask = batch[\"decoder_attention_mask\"].to(DEVICE)\n",
    "        labels = batch[\"labels\"].to(DEVICE)\n",
    "        \n",
    "        model_logits = model(src_x, src_attn_mask, tgt_x, tgt_attn_mask)\n",
    "        \n",
    "        loss = compute_loss(model_logits, labels, loss_fn )\n",
    "        \n",
    "        loss.backward()\n",
    "\n",
    "        nn.utils.clip_grad_value_(model.parameters(), GRAD_CLIP)\n",
    "        \n",
    "        opt.step()\n",
    "        \n",
    "        opt.zero_grad(set_to_none=True)\n",
    "        sched.step()\n",
    "    with torch.no_grad():\n",
    "        model.eval()\n",
    "        for batch in tqdm(train_dl, desc=f\"Training loss {e}\"):\n",
    "            src_x = batch[\"encoder_input_ids\"].to(DEVICE)\n",
    "            src_attn_mask = batch[\"encoder_attention_mask\"].to(DEVICE)\n",
    "            tgt_x = batch[\"decoder_input_ids\"].to(DEVICE)\n",
    "            tgt_attn_mask = batch[\"decoder_attention_mask\"].to(DEVICE)\n",
    "            labels = batch[\"labels\"].to(DEVICE)\n",
    "            \n",
    "            model_logits = model(src_x, src_attn_mask, tgt_x, tgt_attn_mask)\n",
    "            \n",
    "            loss = compute_loss(model_logits, labels, loss_fn )\n",
    "    \n",
    "            train_losses.append(loss.item())\n",
    "        print(sum(train_losses)/len(train_losses))\n",
    "        train_.append(sum(train_losses)/len(train_losses))\n",
    "        for batch in tqdm(test_dl, desc=f\"Testing loss {e}\"):\n",
    "            src_x = batch[\"encoder_input_ids\"].to(DEVICE)\n",
    "            src_attn_mask = batch[\"encoder_attention_mask\"].to(DEVICE)\n",
    "            tgt_x = batch[\"decoder_input_ids\"].to(DEVICE)\n",
    "            tgt_attn_mask = batch[\"decoder_attention_mask\"].to(DEVICE)\n",
    "            labels = batch[\"labels\"].to(DEVICE)\n",
    "            \n",
    "            model_logits = model(src_x, src_attn_mask, tgt_x, tgt_attn_mask)\n",
    "            \n",
    "            loss = compute_loss(model_logits, labels, loss_fn )\n",
    "\n",
    "            test_losses.append(loss.item())\n",
    "        print(sum(test_losses)/len(test_losses))\n",
    "        test_.append(sum(test_losses)/len(test_losses))\n",
    "    # save checkpoints\n",
    "    ckpt_path = \"checkpoints/\"+f\"epoch-{e}-checkpoint.pth\"\n",
    "    torch.save({\n",
    "        \"model\": model.state_dict(),\n",
    "        \"optimizer\": opt.state_dict(),\n",
    "        \"scheduler\": sched.state_dict(),\n",
    "    }, ckpt_path)\n"
   ]
  },
  {
   "cell_type": "code",
   "execution_count": 41,
   "id": "20212920-7fca-473f-b032-bcafead565fd",
   "metadata": {},
   "outputs": [
    {
     "data": {
      "text/plain": [
       "(['1'], 1)"
      ]
     },
     "execution_count": 41,
     "metadata": {},
     "output_type": "execute_result"
    }
   ],
   "source": [
    "# inference\n",
    "\n",
    "n = 17000\n",
    "sentence, label = CD_test[n]['source'], CD_test[n]['target']\n",
    "def classify_sentence(model, sentence, tokenizer):\n",
    "        \n",
    "    model.eval()\n",
    "    \n",
    "    source = tokenizer.encode(sentence).ids[:MAX_SEQ_LEN - 2]\n",
    "            \n",
    "    source = torch.cat([\n",
    "        torch.tensor([tokenizer.token_to_id('[SOS]')], dtype=torch.int64), \n",
    "        torch.tensor(source, dtype=torch.int64),\n",
    "        torch.tensor([tokenizer.token_to_id('[EOS]')], dtype=torch.int64),\n",
    "        torch.tensor([tokenizer.token_to_id('[PAD]')] * (MAX_SEQ_LEN - len(source) - 2), dtype=torch.int64)\n",
    "    ], dim=0).to(DEVICE)\n",
    "    source_mask = (source != tokenizer.token_to_id('[PAD]')).unsqueeze(0).unsqueeze(0).int().to(DEVICE)\n",
    "    \n",
    "    sos_idx = tokenizer.token_to_id(\"[SOS]\")\n",
    "    eos_idx = tokenizer.token_to_id(\"[EOS]\")\n",
    "    \n",
    "    decoder_inp = torch.empty(1, 1).fill_(sos_idx).type_as(source).to(DEVICE)\n",
    "    \n",
    "    while True:\n",
    "        if decoder_inp.size(1) == MAX_SEQ_LEN:\n",
    "            break\n",
    "        tgt_attn_mask = torch.tril(torch.ones((1, decoder_inp.size(1), decoder_inp.size(1))), diagonal=0).type(torch.int64).type_as(source_mask).to(DEVICE)\n",
    "    \n",
    "        out = model(source, source_mask, decoder_inp, tgt_attn_mask)\n",
    "    \n",
    "        logits = torch.softmax(out, dim=2)\n",
    "    \n",
    "        next_word_logit_argmax = torch.argmax(logits, dim=2)\n",
    "        next_word_logit_argmax = next_word_logit_argmax[0][-1]\n",
    "    \n",
    "        decoder_inp = torch.cat([decoder_inp, torch.empty(1, 1).type_as(source).fill_(next_word_logit_argmax.item()).to(DEVICE)], dim=1)\n",
    "        \n",
    "        if next_word_logit_argmax == eos_idx:\n",
    "            break\n",
    "    model_out = tokenizer.decode_batch(decoder_inp.tolist())\n",
    "    return model_out\n",
    "model_out = classify_sentence(model, sentence, tokenizer)\n",
    "model_out, label"
   ]
  },
  {
   "cell_type": "code",
   "execution_count": 40,
   "id": "5d7c231c-9240-438f-afee-65585368c445",
   "metadata": {},
   "outputs": [
    {
     "data": {
      "text/plain": [
       "['1']"
      ]
     },
     "execution_count": 40,
     "metadata": {},
     "output_type": "execute_result"
    }
   ],
   "source": [
    "classify_sentence(model, \"It was superb movie\", tokenizer)"
   ]
  },
  {
   "cell_type": "code",
   "execution_count": 32,
   "id": "49ffc7e8-55ad-4d57-bda9-46d25b0e433c",
   "metadata": {},
   "outputs": [
    {
     "data": {
      "text/plain": [
       "\"Having read the other comment about this superb piece of TV drama I felt compelled to balance things a little. If you like you murders, to be signature and serial, and your cops to be British, and shout a lot, and the gore to be bloody and have a religious slant then this hits every button. Not quite enough 'gov'ing to put the shouting into the Sweeney's rarefied heights, but otherwise highly rated. Ken Stott is excellent as the 'cop on the edge' and the guest stars are also well cast, including Edward Woodward and Art Malik. Recommended. (In response to the earlier comments, although I accept that 'Red' would not 'normally' drive away from a hit and run, he had just witnessed his brother arrested for murder, and I am fairly sure he does not see the boy move.)\""
      ]
     },
     "execution_count": 32,
     "metadata": {},
     "output_type": "execute_result"
    }
   ],
   "source": [
    "CD_test[n]['source']"
   ]
  },
  {
   "cell_type": "code",
   "execution_count": 28,
   "id": "171a1ad3-ba4d-4626-8ec0-2c0acd55f383",
   "metadata": {},
   "outputs": [
    {
     "data": {
      "text/plain": [
       "[<matplotlib.lines.Line2D at 0x1f033d33110>]"
      ]
     },
     "execution_count": 28,
     "metadata": {},
     "output_type": "execute_result"
    },
    {
     "data": {
      "image/png": "[encoded data removed]",
      "text/plain": [
       "<Figure size 640x480 with 1 Axes>"
      ]
     },
     "metadata": {},
     "output_type": "display_data"
    }
   ],
   "source": [
    "import matplotlib.pyplot as plt\n",
    "%matplotlib inline\n",
    "\n",
    "plt.plot(train_)\n",
    "plt.plot(test_)"
   ]
  },
  {
   "cell_type": "code",
   "execution_count": null,
   "id": "0e34d442-29a5-4d58-ab0a-9fa93588a8f9",
   "metadata": {},
   "outputs": [],
   "source": []
  }
 ],
 "metadata": {
  "kernelspec": {
   "display_name": "Python 3 (ipykernel)",
   "language": "python",
   "name": "python3"
  },
  "language_info": {
   "codemirror_mode": {
    "name": "ipython",
    "version": 3
   },
   "file_extension": ".py",
   "mimetype": "text/x-python",
   "name": "python",
   "nbconvert_exporter": "python",
   "pygments_lexer": "ipython3",
   "version": "3.11.5"
  }
 },
 "nbformat": 4,
 "nbformat_minor": 5
}
