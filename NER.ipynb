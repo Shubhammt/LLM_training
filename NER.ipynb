{
 "cells": [
  {
   "cell_type": "code",
   "execution_count": 1,
   "id": "3707dd5a-49ca-4156-b61b-08f7471e85c4",
   "metadata": {},
   "outputs": [
    {
     "name": "stderr",
     "output_type": "stream",
     "text": [
      "C:\\Users\\729sh\\anaconda3\\Lib\\site-packages\\datasets\\load.py:1486: FutureWarning: The repository for conll2003 contains custom code which must be executed to correctly load the dataset. You can inspect the repository content at https://hf.co/datasets/conll2003\n",
      "You can avoid this message in future by passing the argument `trust_remote_code=True`.\n",
      "Passing `trust_remote_code=True` will be mandatory to load this dataset from the next major release of `datasets`.\n",
      "  warnings.warn(\n"
     ]
    }
   ],
   "source": [
    "# dataset \n",
    "from datasets import load_dataset\n",
    "\n",
    "dataset = load_dataset(\"conll2003\")\n",
    "train = dataset[\"train\"]\n",
    "test = dataset[\"test\"]\n",
    "label_names = train.features[\"ner_tags\"].feature.names"
   ]
  },
  {
   "cell_type": "code",
   "execution_count": 2,
   "id": "1d0c8572-e88c-4f56-9292-bad4d6515492",
   "metadata": {},
   "outputs": [
    {
     "data": {
      "text/plain": [
       "{'id': '0',\n",
       " 'tokens': ['EU',\n",
       "  'rejects',\n",
       "  'German',\n",
       "  'call',\n",
       "  'to',\n",
       "  'boycott',\n",
       "  'British',\n",
       "  'lamb',\n",
       "  '.'],\n",
       " 'pos_tags': [22, 42, 16, 21, 35, 37, 16, 21, 7],\n",
       " 'chunk_tags': [11, 21, 11, 12, 21, 22, 11, 12, 0],\n",
       " 'ner_tags': [3, 0, 7, 0, 0, 0, 7, 0, 0]}"
      ]
     },
     "execution_count": 2,
     "metadata": {},
     "output_type": "execute_result"
    }
   ],
   "source": [
    "train[0]"
   ]
  },
  {
   "cell_type": "code",
   "execution_count": 3,
   "id": "4f6dfa02-5596-45a0-b1f7-c47f691e2dd3",
   "metadata": {},
   "outputs": [
    {
     "data": {
      "text/plain": [
       "Sequence(feature=ClassLabel(names=['O', 'B-PER', 'I-PER', 'B-ORG', 'I-ORG', 'B-LOC', 'I-LOC', 'B-MISC', 'I-MISC'], id=None), length=-1, id=None)"
      ]
     },
     "execution_count": 3,
     "metadata": {},
     "output_type": "execute_result"
    }
   ],
   "source": [
    "train.features[\"ner_tags\"]"
   ]
  },
  {
   "cell_type": "code",
   "execution_count": 4,
   "id": "63c8b65b-65bd-41cb-bf53-d5f6fe554fff",
   "metadata": {},
   "outputs": [
    {
     "name": "stderr",
     "output_type": "stream",
     "text": [
      "C:\\Users\\729sh\\anaconda3\\Lib\\site-packages\\huggingface_hub\\file_download.py:1132: FutureWarning: `resume_download` is deprecated and will be removed in version 1.0.0. Downloads always resume when possible. If you want to force a new download, use `force_download=True`.\n",
      "  warnings.warn(\n"
     ]
    }
   ],
   "source": [
    "# tokenizer \n",
    "from transformers import AutoTokenizer\n",
    "\n",
    "tokenizer = AutoTokenizer.from_pretrained(\"bert-base-cased\")"
   ]
  },
  {
   "cell_type": "code",
   "execution_count": 16,
   "id": "cf6366f9-abbe-4473-abab-4c8265d3f114",
   "metadata": {},
   "outputs": [
    {
     "data": {
      "text/plain": [
       "([5, 0], ['BRUSSELS', '1996-08-22'])"
      ]
     },
     "execution_count": 16,
     "metadata": {},
     "output_type": "execute_result"
    }
   ],
   "source": [
    "train[2][\"ner_tags\"], train[2]['tokens']"
   ]
  },
  {
   "cell_type": "code",
   "execution_count": 74,
   "id": "7e89884b-535f-4ba7-b70d-5b7ce54781ea",
   "metadata": {},
   "outputs": [
    {
     "data": {
      "text/plain": [
       "([101, 7270, 22961, 1528, 1840, 1106, 21423, 1418, 2495, 12913, 119, 102],\n",
       " ['EU', 'rejects', 'German', 'call', 'to', 'boycott', 'British', 'lamb', '.'],\n",
       " [None, 0, 1, 2, 3, 4, 5, 6, 7, 7, 8, None],\n",
       " [3, 0, 7, 0, 0, 0, 7, 0, 0])"
      ]
     },
     "execution_count": 74,
     "metadata": {},
     "output_type": "execute_result"
    }
   ],
   "source": [
    "k = 0\n",
    "inp = tokenizer(\n",
    "            train[k][\"tokens\"], truncation=True, is_split_into_words=True\n",
    "        )\n",
    "inp['input_ids'], train[k][\"tokens\"],  inp.word_ids(), train[k][\"ner_tags\"]"
   ]
  },
  {
   "cell_type": "code",
   "execution_count": 51,
   "id": "5356dba0-4477-4c7e-b02a-398b613b517c",
   "metadata": {},
   "outputs": [],
   "source": [
    "def align_labels_with_tokens(labels, word_ids):\n",
    "    new_labels = []\n",
    "    current_word = None\n",
    "    for word_id in word_ids:\n",
    "        if word_id != current_word: \n",
    "            current_word = word_id\n",
    "            try:\n",
    "                label = -100 if word_id is None else labels[word_id]\n",
    "            except:\n",
    "                label = -100\n",
    "            new_labels.append(label)\n",
    "        elif word_id is None:\n",
    "            new_labels.append(-100)\n",
    "        else:\n",
    "            label = labels[word_id]\n",
    "            if label % 2 == 1:\n",
    "                label += 1\n",
    "            new_labels.append(label)\n",
    "\n",
    "    return new_labels\n",
    "\n",
    "def preprocess_function(examples):\n",
    "    tokenized_inputs = tokenizer(\n",
    "        examples[\"tokens\"], truncation=True, is_split_into_words=True\n",
    "    )\n",
    "    all_labels = examples[\"ner_tags\"]\n",
    "    new_labels = []\n",
    "    for i, labels in enumerate(all_labels):\n",
    "        word_ids = tokenized_inputs.word_ids(i)\n",
    "        new_labels.append(align_labels_with_tokens(labels, word_ids))\n",
    "\n",
    "    tokenized_inputs[\"labels\"] = new_labels\n",
    "    return tokenized_inputs"
   ]
  },
  {
   "cell_type": "code",
   "execution_count": 52,
   "id": "6f738c53-c0db-40a9-bb64-48fba8aa00fb",
   "metadata": {},
   "outputs": [],
   "source": [
    "tokenized_train_dataset = train.map(\n",
    "    preprocess_function,\n",
    "    batched=True,\n",
    "    remove_columns=train.column_names\n",
    ")\n",
    "\n",
    "tokenized_test_dataset = test.map(\n",
    "    preprocess_function,\n",
    "    batched=True,\n",
    "    remove_columns=train.column_names\n",
    ")"
   ]
  },
  {
   "cell_type": "code",
   "execution_count": 71,
   "id": "2d8aac54-1f06-4af7-8160-3d3e44bc0aa7",
   "metadata": {},
   "outputs": [
    {
     "data": {
      "text/plain": [
       "({'input_ids': [101, 157, 11612, 15824, 1592, 102],\n",
       "  'token_type_ids': [0, 0, 0, 0, 0, 0],\n",
       "  'attention_mask': [1, 1, 1, 1, 1, 1],\n",
       "  'labels': [-100, 3, 4, 4, 4, -100]},\n",
       " {'id': '200',\n",
       "  'tokens': ['THAWRA'],\n",
       "  'pos_tags': [38],\n",
       "  'chunk_tags': [11],\n",
       "  'ner_tags': [3]})"
      ]
     },
     "execution_count": 71,
     "metadata": {},
     "output_type": "execute_result"
    }
   ],
   "source": [
    "tokenized_train_dataset[200], train[200]"
   ]
  },
  {
   "cell_type": "code",
   "execution_count": 88,
   "id": "02cc5495-a45a-420d-8fe9-767cbd32c647",
   "metadata": {},
   "outputs": [
    {
     "name": "stderr",
     "output_type": "stream",
     "text": [
      "C:\\Users\\729sh\\anaconda3\\Lib\\site-packages\\huggingface_hub\\file_download.py:1132: FutureWarning: `resume_download` is deprecated and will be removed in version 1.0.0. Downloads always resume when possible. If you want to force a new download, use `force_download=True`.\n",
      "  warnings.warn(\n",
      "Some weights of BertForTokenClassification were not initialized from the model checkpoint at bert-base-cased and are newly initialized: ['classifier.bias', 'classifier.weight']\n",
      "You should probably TRAIN this model on a down-stream task to be able to use it for predictions and inference.\n",
      "C:\\Users\\729sh\\anaconda3\\Lib\\site-packages\\accelerate\\accelerator.py:446: FutureWarning: Passing the following arguments to `Accelerator` is deprecated and will be removed in version 1.0 of Accelerate: dict_keys(['dispatch_batches', 'split_batches']). Please pass an `accelerate.DataLoaderConfiguration` instead: \n",
      "dataloader_config = DataLoaderConfiguration(dispatch_batches=None, split_batches=False)\n",
      "  warnings.warn(\n"
     ]
    }
   ],
   "source": [
    "# model\n",
    "from transformers import AutoModelForTokenClassification, Trainer, TrainingArguments, DataCollatorForTokenClassification\n",
    "import evaluate\n",
    "import numpy as np\n",
    "import torch\n",
    "device = \"cuda\" if torch.cuda.is_available() else \"cpu\"\n",
    "ID2LABEL = {i: label for i, label in enumerate(label_names)}\n",
    "LABEL2ID = {v: k for k, v in ID2LABEL.items()}\n",
    "\n",
    "\n",
    "model = AutoModelForTokenClassification.from_pretrained(\"bert-base-cased\",\n",
    "                                                            id2label=ID2LABEL,\n",
    "                                                            label2id=LABEL2ID,\n",
    "                                                            num_labels=len(ID2LABEL)\n",
    "                                                            ).to(device)\n",
    "train_args  = TrainingArguments(output_dir = \"ner_training\",\n",
    "                                num_train_epochs=3,\n",
    "                                learning_rate = 2E-5,\n",
    "                                per_device_train_batch_size = 16,\n",
    "                                per_device_eval_batch_size = 16,\n",
    "                                weight_decay = 0.01,\n",
    "                                evaluation_strategy = \"epoch\",\n",
    "                                save_strategy = \"epoch\",\n",
    "                                logging_strategy = \"epoch\",\n",
    "                                )\n",
    "eval_comp = evaluate.load(\"seqeval\")\n",
    "def compute_metrics(eval_preds):\n",
    "    logits, labels = eval_preds\n",
    "    predictions = np.argmax(logits, axis=-1)\n",
    "    true_labels = [[label_names[l] for l in label if l != -100] for label in labels]\n",
    "    true_predictions = [\n",
    "        [label_names[p] for (p, l) in zip(prediction, label) if l != -100]\n",
    "        for prediction, label in zip(predictions, labels)\n",
    "    ]\n",
    "    all_metrics = eval_comp.compute(predictions=true_predictions, references=true_labels)\n",
    "    return {\n",
    "        \"precision\": all_metrics[\"overall_precision\"],\n",
    "        \"recall\": all_metrics[\"overall_recall\"],\n",
    "        \"f1\": all_metrics[\"overall_f1\"],\n",
    "        \"accuracy\": all_metrics[\"overall_accuracy\"],\n",
    "    }\n",
    "trainer = Trainer(model = model,\n",
    "                args = train_args,\n",
    "                data_collator = DataCollatorForTokenClassification(tokenizer),\n",
    "                train_dataset = tokenized_train_dataset,\n",
    "                eval_dataset = tokenized_test_dataset,\n",
    "                compute_metrics = compute_metrics,\n",
    "                tokenizer=tokenizer,\n",
    "            )"
   ]
  },
  {
   "cell_type": "code",
   "execution_count": 89,
   "id": "06f16c85-c0f4-43de-b19f-c525c52dc4ae",
   "metadata": {},
   "outputs": [
    {
     "data": {
      "text/html": [
       "\n",
       "    <div>\n",
       "      \n",
       "      <progress value='2634' max='2634' style='width:300px; height:20px; vertical-align: middle;'></progress>\n",
       "      [2634/2634 04:56, Epoch 3/3]\n",
       "    </div>\n",
       "    <table border=\"1\" class=\"dataframe\">\n",
       "  <thead>\n",
       " <tr style=\"text-align: left;\">\n",
       "      <th>Epoch</th>\n",
       "      <th>Training Loss</th>\n",
       "      <th>Validation Loss</th>\n",
       "      <th>Precision</th>\n",
       "      <th>Recall</th>\n",
       "      <th>F1</th>\n",
       "      <th>Accuracy</th>\n",
       "    </tr>\n",
       "  </thead>\n",
       "  <tbody>\n",
       "    <tr>\n",
       "      <td>1</td>\n",
       "      <td>0.157900</td>\n",
       "      <td>0.155726</td>\n",
       "      <td>0.855965</td>\n",
       "      <td>0.900673</td>\n",
       "      <td>0.877750</td>\n",
       "      <td>0.966862</td>\n",
       "    </tr>\n",
       "    <tr>\n",
       "      <td>2</td>\n",
       "      <td>0.044900</td>\n",
       "      <td>0.156902</td>\n",
       "      <td>0.873743</td>\n",
       "      <td>0.907932</td>\n",
       "      <td>0.890510</td>\n",
       "      <td>0.970423</td>\n",
       "    </tr>\n",
       "    <tr>\n",
       "      <td>3</td>\n",
       "      <td>0.025100</td>\n",
       "      <td>0.171829</td>\n",
       "      <td>0.888316</td>\n",
       "      <td>0.915368</td>\n",
       "      <td>0.901639</td>\n",
       "      <td>0.972471</td>\n",
       "    </tr>\n",
       "  </tbody>\n",
       "</table><p>"
      ],
      "text/plain": [
       "<IPython.core.display.HTML object>"
      ]
     },
     "metadata": {},
     "output_type": "display_data"
    },
    {
     "name": "stderr",
     "output_type": "stream",
     "text": [
      "Checkpoint destination directory ner_training\\checkpoint-878 already exists and is non-empty.Saving will proceed but saved results may be invalid.\n",
      "Checkpoint destination directory ner_training\\checkpoint-1756 already exists and is non-empty.Saving will proceed but saved results may be invalid.\n",
      "Checkpoint destination directory ner_training\\checkpoint-2634 already exists and is non-empty.Saving will proceed but saved results may be invalid.\n"
     ]
    },
    {
     "data": {
      "text/plain": [
       "TrainOutput(global_step=2634, training_loss=0.07597705751272794, metrics={'train_runtime': 297.116, 'train_samples_per_second': 141.773, 'train_steps_per_second': 8.865, 'total_flos': 1054683418795902.0, 'train_loss': 0.07597705751272794, 'epoch': 3.0})"
      ]
     },
     "execution_count": 89,
     "metadata": {},
     "output_type": "execute_result"
    }
   ],
   "source": [
    "trainer.train()"
   ]
  },
  {
   "cell_type": "code",
   "execution_count": 90,
   "id": "2cde71ed-60b9-40c0-b550-84e06d6776de",
   "metadata": {},
   "outputs": [
    {
     "data": {
      "text/plain": [
       "[{'entity_group': 'LOC',\n",
       "  'score': 0.9971277,\n",
       "  'word': 'Chennai',\n",
       "  'start': 14,\n",
       "  'end': 21}]"
      ]
     },
     "execution_count": 90,
     "metadata": {},
     "output_type": "execute_result"
    }
   ],
   "source": [
    "from transformers import pipeline\n",
    "\n",
    "model_checkpoint = \"ner_training/checkpoint-2634\"\n",
    "token_classifier = pipeline(\n",
    "    \"token-classification\", model=model_checkpoint, aggregation_strategy=\"simple\"\n",
    ")\n",
    "token_classifier(\"ajay lives in Chennai and keeps a samsung phone\")"
   ]
  },
  {
   "cell_type": "code",
   "execution_count": null,
   "id": "6085f6b7-8e20-4790-b707-67608a115b74",
   "metadata": {},
   "outputs": [],
   "source": []
  }
 ],
 "metadata": {
  "kernelspec": {
   "display_name": "Python 3 (ipykernel)",
   "language": "python",
   "name": "python3"
  },
  "language_info": {
   "codemirror_mode": {
    "name": "ipython",
    "version": 3
   },
   "file_extension": ".py",
   "mimetype": "text/x-python",
   "name": "python",
   "nbconvert_exporter": "python",
   "pygments_lexer": "ipython3",
   "version": "3.11.5"
  }
 },
 "nbformat": 4,
 "nbformat_minor": 5
}
